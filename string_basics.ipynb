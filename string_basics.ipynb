{
  "nbformat": 4,
  "nbformat_minor": 0,
  "metadata": {
    "colab": {
      "name": "string_basics.ipynb",
      "provenance": [],
      "collapsed_sections": [
        "EC-7MmSv6Bph",
        "iqxMH_sc8h6o",
        "G709W6AJ9ebm",
        "_dksBV_v_5pG",
        "5LmYM0FjBK1w"
      ],
      "include_colab_link": true
    },
    "kernelspec": {
      "name": "python3",
      "display_name": "Python 3"
    }
  },
  "cells": [
    {
      "cell_type": "markdown",
      "metadata": {
        "id": "view-in-github",
        "colab_type": "text"
      },
      "source": [
        "<a href=\"https://colab.research.google.com/github/aryadeo/python_basics/blob/master/string_basics.ipynb\" target=\"_parent\"><img src=\"https://colab.research.google.com/assets/colab-badge.svg\" alt=\"Open In Colab\"/></a>"
      ]
    },
    {
      "cell_type": "markdown",
      "metadata": {
        "id": "nHbQNoot330K",
        "colab_type": "text"
      },
      "source": [
        "Date:18.10.19\n",
        "#String Data Type\n",
        "Here we will see the following.\n",
        "1. basic string input\n",
        "2. splitting\n",
        "3. Relational operation on string\n",
        "4. Membership operation\n",
        "5. Numerical operation on string"
      ]
    },
    {
      "cell_type": "markdown",
      "metadata": {
        "id": "EC-7MmSv6Bph",
        "colab_type": "text"
      },
      "source": [
        "#basic string"
      ]
    },
    {
      "cell_type": "code",
      "metadata": {
        "id": "4s2LoiG43ziU",
        "colab_type": "code",
        "colab": {}
      },
      "source": [
        "a='its a demo notebook'\n",
        "a_1='''this is just\n",
        " for basics'''\n",
        "a_2=\"\"\" lets go\n",
        " through\"\"\"\n",
        "print(a)\n",
        "print(a_1)\n",
        "print(a_2)\n",
        "print('length of first string is:', len(a)) #string length=num of characters + <spaces included>"
      ],
      "execution_count": 0,
      "outputs": []
    },
    {
      "cell_type": "code",
      "metadata": {
        "id": "itG7jn1C6I8V",
        "colab_type": "code",
        "colab": {}
      },
      "source": [
        "print('Please type your name')\n",
        "b=input('Your name is:')\n",
        "print('length of your name string is:',len(b))"
      ],
      "execution_count": 0,
      "outputs": []
    },
    {
      "cell_type": "code",
      "metadata": {
        "id": "dclVZEii6gPf",
        "colab_type": "code",
        "colab": {}
      },
      "source": [
        "#all the characters in a string are indexed.\n",
        "for i in range(len(b)):\n",
        "  print(b[i])"
      ],
      "execution_count": 0,
      "outputs": []
    },
    {
      "cell_type": "code",
      "metadata": {
        "id": "elT7Thy8DTn6",
        "colab_type": "code",
        "colab": {}
      },
      "source": [
        "b_upper=b.upper()\n",
        "b_lower=b.lower()\n",
        "print(b_upper,'',b_lower)"
      ],
      "execution_count": 0,
      "outputs": []
    },
    {
      "cell_type": "code",
      "metadata": {
        "id": "hbHun7PyD18q",
        "colab_type": "code",
        "colab": {}
      },
      "source": [
        "#by converting a string into list you can perform the lsit operations.\n",
        "b_list=list(b)\n",
        "print(b_list)"
      ],
      "execution_count": 0,
      "outputs": []
    },
    {
      "cell_type": "markdown",
      "metadata": {
        "id": "iqxMH_sc8h6o",
        "colab_type": "text"
      },
      "source": [
        "#Splitting"
      ]
    },
    {
      "cell_type": "code",
      "metadata": {
        "id": "ez61qqQr8L7P",
        "colab_type": "code",
        "colab": {}
      },
      "source": [
        "print(b[1:5])\n",
        "print(b[:13])\n",
        "print(b[:14])\n",
        "print(b[:24])\n",
        "print(b[:-1])\n",
        "print(b[1:-1])\n",
        "print(b[:])"
      ],
      "execution_count": 0,
      "outputs": []
    },
    {
      "cell_type": "code",
      "metadata": {
        "id": "T874dKxrAq3U",
        "colab_type": "code",
        "colab": {}
      },
      "source": [
        "test_str='I,am,preparing,a,demo,notebook'\n",
        "print(test_str.split(','))"
      ],
      "execution_count": 0,
      "outputs": []
    },
    {
      "cell_type": "code",
      "metadata": {
        "id": "lGbqYDNFDhRp",
        "colab_type": "code",
        "colab": {}
      },
      "source": [
        "print(b.split(' ')) #here the eneterd separator is <space>"
      ],
      "execution_count": 0,
      "outputs": []
    },
    {
      "cell_type": "markdown",
      "metadata": {
        "id": "G709W6AJ9ebm",
        "colab_type": "text"
      },
      "source": [
        "#Relational Operation\n",
        "it compares the corresponding ascii values of a string.\n",
        "\n",
        "*   ASCII values for A is 65, for B is 66 and so on\n",
        "*   ASCII value for a is 97, for b is 98 and so on"
      ]
    },
    {
      "cell_type": "code",
      "metadata": {
        "id": "KAlmRaiQ84aj",
        "colab_type": "code",
        "colab": {}
      },
      "source": [
        "a_str='arya'\n",
        "A_str='ARYA'\n",
        "print(a_str>A_str)\n",
        "print(A_str>a_str)"
      ],
      "execution_count": 0,
      "outputs": []
    },
    {
      "cell_type": "markdown",
      "metadata": {
        "id": "_dksBV_v_5pG",
        "colab_type": "text"
      },
      "source": [
        "#Membership Operation"
      ]
    },
    {
      "cell_type": "code",
      "metadata": {
        "id": "Fqx9rSnW_l5e",
        "colab_type": "code",
        "colab": {}
      },
      "source": [
        "a_test='this is a demo notebook'\n",
        "a_test_1='demo'\n",
        "print(a_test_1 in a_test)\n",
        "print('notebook' in a_test)\n",
        "print('notebook' not in a_test)"
      ],
      "execution_count": 0,
      "outputs": []
    },
    {
      "cell_type": "markdown",
      "metadata": {
        "id": "5LmYM0FjBK1w",
        "colab_type": "text"
      },
      "source": [
        "#Numerical Operation"
      ]
    },
    {
      "cell_type": "code",
      "metadata": {
        "id": "ogu_jcVLBQlh",
        "colab_type": "code",
        "colab": {}
      },
      "source": [
        "a_test_2=a_test + a_test_1\n",
        "print(a_test_2)"
      ],
      "execution_count": 0,
      "outputs": []
    },
    {
      "cell_type": "code",
      "metadata": {
        "id": "ALFdErr9BYi7",
        "colab_type": "code",
        "colab": {}
      },
      "source": [
        "a_test_3=a_test*2\n",
        "print(a_test_3)"
      ],
      "execution_count": 0,
      "outputs": []
    },
    {
      "cell_type": "code",
      "metadata": {
        "id": "a4Lm-DR9BuHh",
        "colab_type": "code",
        "colab": {}
      },
      "source": [
        "#it will show error\n",
        "print(a_test - a_test_1)"
      ],
      "execution_count": 0,
      "outputs": []
    }
  ]
}