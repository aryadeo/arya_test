{
  "nbformat": 4,
  "nbformat_minor": 0,
  "metadata": {
    "colab": {
      "name": "numpy_basics.ipynb",
      "provenance": [],
      "collapsed_sections": [
        "aXVYxfOQJEJC",
        "6gl12f7jK6n5"
      ],
      "toc_visible": true,
      "include_colab_link": true
    },
    "kernelspec": {
      "name": "python3",
      "display_name": "Python 3"
    }
  },
  "cells": [
    {
      "cell_type": "markdown",
      "metadata": {
        "id": "view-in-github",
        "colab_type": "text"
      },
      "source": [
        "<a href=\"https://colab.research.google.com/github/aryadeo/python_basics/blob/master/numpy_basics.ipynb\" target=\"_parent\"><img src=\"https://colab.research.google.com/assets/colab-badge.svg\" alt=\"Open In Colab\"/></a>"
      ]
    },
    {
      "cell_type": "markdown",
      "metadata": {
        "id": "U83LJEnFoX3S",
        "colab_type": "text"
      },
      "source": [
        "Date: 18_10_2019\n",
        "Here we are going to learn about some basic commands to be used in numpy."
      ]
    },
    {
      "cell_type": "code",
      "metadata": {
        "id": "rBUhk35XHLV1",
        "colab_type": "code",
        "colab": {}
      },
      "source": [
        "import numpy as np"
      ],
      "execution_count": 0,
      "outputs": []
    },
    {
      "cell_type": "markdown",
      "metadata": {
        "id": "aXVYxfOQJEJC",
        "colab_type": "text"
      },
      "source": [
        "#creating an array"
      ]
    },
    {
      "cell_type": "code",
      "metadata": {
        "id": "ehjh5ovlJHCt",
        "colab_type": "code",
        "colab": {
          "base_uri": "https://localhost:8080/",
          "height": 52
        },
        "outputId": "cd6a97e8-f982-4769-ba98-4f4873c7d5f7"
      },
      "source": [
        "a_1=np.array([1,2,3])\n",
        "a_2=np.array([((1,2,3),(4,5,6),(7,8))])\n",
        "print('array is:',a_1,'and its dimension is',np.ndim(a_1))\n",
        "print('array is:',a_2,'and its dimension is',np.ndim(a_2))"
      ],
      "execution_count": 62,
      "outputs": [
        {
          "output_type": "stream",
          "text": [
            "array is: [1 2 3] and its dimension is 1\n",
            "array is: [[(1, 2, 3) (4, 5, 6) (7, 8)]] and its dimension is 2\n"
          ],
          "name": "stdout"
        }
      ]
    },
    {
      "cell_type": "markdown",
      "metadata": {
        "id": "PayzoXFqSxeE",
        "colab_type": "text"
      },
      "source": [
        "#Null Array\n",
        "It is possible to create a null array of 1D and 2D dimension only. By opting to create null array of higher dimension, it takes it as 2D only. A higher dimesion array will be created only if youe are giving some input."
      ]
    },
    {
      "cell_type": "code",
      "metadata": {
        "id": "bgtTe_LrPgJq",
        "colab_type": "code",
        "colab": {
          "base_uri": "https://localhost:8080/",
          "height": 70
        },
        "outputId": "cb091a5b-d30b-420e-e016-edb00ef92c66"
      },
      "source": [
        "#creating a null array\n",
        "a_null=np.array([])\n",
        "print('created null array is a_null=',a_null)\n",
        "a_null_1=np.array([(((((())))))])\n",
        "print('created null array is a_null_1=',a_null_1)\n",
        "print(np.ndim(a_null_1))"
      ],
      "execution_count": 54,
      "outputs": [
        {
          "output_type": "stream",
          "text": [
            "created null array is a_null= []\n",
            "created null array is a_null_1= []\n",
            "2\n"
          ],
          "name": "stdout"
        }
      ]
    },
    {
      "cell_type": "markdown",
      "metadata": {
        "id": "ABVDa5GZUiXK",
        "colab_type": "text"
      },
      "source": [
        "Using the command \"numpy.empty([p,q])\"you can create a null array with uninitialized random values filled in as default. Of course, you can reinitialize the values."
      ]
    },
    {
      "cell_type": "code",
      "metadata": {
        "id": "wSaJJNdbT_R9",
        "colab_type": "code",
        "colab": {}
      },
      "source": [
        "a_null_2=np.empty([2,2,2,2]) #uninitialized and output may vary\n",
        "a_null_2"
      ],
      "execution_count": 0,
      "outputs": []
    },
    {
      "cell_type": "markdown",
      "metadata": {
        "id": "6gl12f7jK6n5",
        "colab_type": "text"
      },
      "source": [
        "#nD array\n",
        "tensor dimension depend on the number of paranthesis you have entered. Let's see the below examples.\n"
      ]
    },
    {
      "cell_type": "code",
      "metadata": {
        "id": "1Z7jrgSdKDbJ",
        "colab_type": "code",
        "colab": {
          "base_uri": "https://localhost:8080/",
          "height": 123
        },
        "outputId": "fecdc0fa-e48d-4d81-e72a-37d006db55a9"
      },
      "source": [
        "a_3=np.array([])\n",
        "print('dimension of the array a_3 is:',np.ndim(a_3))\n",
        "\n",
        "a_4=np.array([()])\n",
        "print('dimension of the array a_4 is:',np.ndim(a_4))\n",
        "\n",
        "a_5=np.array([((()))])      #only giving paranthersis does not increases array dimension.\n",
        "print('dimension of the array a_5 is:',np.ndim(a_5))\n",
        "\n",
        "a_6=np.array([(((1,2),(3,4,5),(8,3,1,4)))])\n",
        "print('dimension of the array a_6 is:',np.ndim(a_6))\n",
        "\n",
        "a_7=np.array([((((1,2,3),(4,5,6))))])     #this is an array of sequence of sequence of sequences.\n",
        "print('dimension of the array a_7 is:',np.ndim(a_7))\n",
        "\n",
        "a_8=np.array([((((1,2),(2,3)),((3,2),(2,3))),((4,5),(6,7)))])\n",
        "print('dimension of the array a_8 is:',np.ndim(a_8))"
      ],
      "execution_count": 52,
      "outputs": [
        {
          "output_type": "stream",
          "text": [
            "dimension of the array a_3 is: 1\n",
            "dimension of the array a_4 is: 2\n",
            "dimension of the array a_5 is: 2\n",
            "dimension of the array a_6 is: 2\n",
            "dimension of the array a_7 is: 3\n",
            "dimension of the array a_8 is: 4\n"
          ],
          "name": "stdout"
        }
      ]
    },
    {
      "cell_type": "code",
      "metadata": {
        "id": "i98Q8H1bG0dI",
        "colab_type": "code",
        "colab": {
          "base_uri": "https://localhost:8080/",
          "height": 265
        },
        "outputId": "11fcc153-3e5a-4954-ba15-36c7ee845b30"
      },
      "source": [
        "a_test=np.arange(16)\n",
        "print('created array is:',a_test)\n",
        "a_test_1=np.reshape(a_test,(2,2,1))\n",
        "print(\"reshaped array is\",a_test_1)\n",
        "print(np.ndim(a_test_1))"
      ],
      "execution_count": 24,
      "outputs": [
        {
          "output_type": "stream",
          "text": [
            "created array is: [ 0  1  2  3  4  5  6  7  8  9 10 11 12 13 14 15]\n",
            "reshaped array is [[[[ 0  1]\n",
            "   [ 2  3]]\n",
            "\n",
            "  [[ 4  5]\n",
            "   [ 6  7]]]\n",
            "\n",
            "\n",
            " [[[ 8  9]\n",
            "   [10 11]]\n",
            "\n",
            "  [[12 13]\n",
            "   [14 15]]]]\n",
            "4\n"
          ],
          "name": "stdout"
        }
      ]
    },
    {
      "cell_type": "code",
      "metadata": {
        "id": "vv-EvOwHHjLE",
        "colab_type": "code",
        "colab": {}
      },
      "source": [
        ""
      ],
      "execution_count": 0,
      "outputs": []
    }
  ]
}