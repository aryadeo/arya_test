{
  "nbformat": 4,
  "nbformat_minor": 0,
  "metadata": {
    "colab": {
      "name": "numpy_basics.ipynb",
      "provenance": [],
      "collapsed_sections": [],
      "toc_visible": true,
      "include_colab_link": true
    },
    "kernelspec": {
      "name": "python3",
      "display_name": "Python 3"
    }
  },
  "cells": [
    {
      "cell_type": "markdown",
      "metadata": {
        "id": "view-in-github",
        "colab_type": "text"
      },
      "source": [
        "<a href=\"https://colab.research.google.com/github/aryadeo/python_basics/blob/master/numpy_basics.ipynb\" target=\"_parent\"><img src=\"https://colab.research.google.com/assets/colab-badge.svg\" alt=\"Open In Colab\"/></a>"
      ]
    },
    {
      "cell_type": "markdown",
      "metadata": {
        "id": "U83LJEnFoX3S",
        "colab_type": "text"
      },
      "source": [
        "Date: 18_10_2019\n",
        "Here we are going to learn about some basic commands to be used in numpy."
      ]
    },
    {
      "cell_type": "code",
      "metadata": {
        "id": "rBUhk35XHLV1",
        "colab_type": "code",
        "colab": {}
      },
      "source": [
        "import numpy as np"
      ],
      "execution_count": 0,
      "outputs": []
    },
    {
      "cell_type": "markdown",
      "metadata": {
        "id": "aXVYxfOQJEJC",
        "colab_type": "text"
      },
      "source": [
        "#creating an array\n",
        "Numpy array has a fixed length unlike the list datatype. Changing the length of an array will delete the old one and create a new one. But it won't allow to chage the length dynamicaally, as is the case in list,"
      ]
    },
    {
      "cell_type": "code",
      "metadata": {
        "id": "ehjh5ovlJHCt",
        "colab_type": "code",
        "colab": {}
      },
      "source": [
        "a_1=np.array([1,2,3])\n",
        "a_2=np.array([((1,2,3),(4,5,6),(7,8))])\n",
        "print('array is:',a_1,'and its dimension is',np.ndim(a_1))\n",
        "print('array is:',a_2,'and its dimension is',np.ndim(a_2))"
      ],
      "execution_count": 0,
      "outputs": []
    },
    {
      "cell_type": "code",
      "metadata": {
        "id": "RHK9dvIqJI-Q",
        "colab_type": "code",
        "colab": {}
      },
      "source": [
        "a_test_1=np.array([2,3,4,5],dtype=int)\n",
        "a_test_2=np.array([2,3,4,5],dtype=float)\n",
        "a_test_3=np.array([2,3,4,5],dtype=complex)\n",
        "print(a_test_1)\n",
        "print(a_test_2)\n",
        "print(a_test_3)"
      ],
      "execution_count": 0,
      "outputs": []
    },
    {
      "cell_type": "code",
      "metadata": {
        "id": "rurYMc1uPkpj",
        "colab_type": "code",
        "colab": {}
      },
      "source": [
        "a_test_4=np.zeros((2,3))\n",
        "print(a_test_4)"
      ],
      "execution_count": 0,
      "outputs": []
    },
    {
      "cell_type": "code",
      "metadata": {
        "id": "IXYlNP8wQlnp",
        "colab_type": "code",
        "colab": {}
      },
      "source": [
        "a_test_5=np.ones((5,5))\n",
        "print(a_test_5)"
      ],
      "execution_count": 0,
      "outputs": []
    },
    {
      "cell_type": "code",
      "metadata": {
        "id": "FNTV9dMzQ3Lh",
        "colab_type": "code",
        "colab": {}
      },
      "source": [
        "a_test_6=np.arange(20)\n",
        "print(a_test_6)"
      ],
      "execution_count": 0,
      "outputs": []
    },
    {
      "cell_type": "code",
      "metadata": {
        "id": "11O9jF9uQ_R4",
        "colab_type": "code",
        "colab": {}
      },
      "source": [
        "#reshaping\n",
        "a_test_7=np.reshape(a_test_6,(2,10))\n",
        "print(a_test_7)"
      ],
      "execution_count": 0,
      "outputs": []
    },
    {
      "cell_type": "code",
      "metadata": {
        "id": "k_Uzk74wVms7",
        "colab_type": "code",
        "colab": {}
      },
      "source": [
        "a_test_8=np.arange(5,9,0.3,dtype=float)\n",
        "print(a_test_8)"
      ],
      "execution_count": 0,
      "outputs": []
    },
    {
      "cell_type": "markdown",
      "metadata": {
        "id": "KCy-XPDPWQjJ",
        "colab_type": "text"
      },
      "source": [
        "due to precision probem, using arange command in float type array create problem. So its preferable to use linspace"
      ]
    },
    {
      "cell_type": "code",
      "metadata": {
        "id": "3g-K2w4hWd7u",
        "colab_type": "code",
        "colab": {}
      },
      "source": [
        "a_test_9=np.linspace(5,9,10,dtype=float)\n",
        "print(a_test_9)"
      ],
      "execution_count": 0,
      "outputs": []
    },
    {
      "cell_type": "markdown",
      "metadata": {
        "id": "PayzoXFqSxeE",
        "colab_type": "text"
      },
      "source": [
        "#Null Array\n",
        "It is possible to create a null array of 1D and 2D dimension only. By opting to create null array of higher dimension, it takes it as 2D only. A higher dimesion array will be created only if youe are giving some input."
      ]
    },
    {
      "cell_type": "code",
      "metadata": {
        "id": "bgtTe_LrPgJq",
        "colab_type": "code",
        "colab": {}
      },
      "source": [
        "#creating a null array\n",
        "a_null=np.array([])\n",
        "print('created null array is a_null=',a_null)\n",
        "a_null_1=np.array([(((((())))))])\n",
        "print('created null array is a_null_1=',a_null_1)\n",
        "print(np.ndim(a_null_1))"
      ],
      "execution_count": 0,
      "outputs": []
    },
    {
      "cell_type": "markdown",
      "metadata": {
        "id": "ABVDa5GZUiXK",
        "colab_type": "text"
      },
      "source": [
        "Using the command \"numpy.empty([p,q])\"you can create a null array with uninitialized random values filled in as default. Of course, you can reinitialize the values."
      ]
    },
    {
      "cell_type": "code",
      "metadata": {
        "id": "wSaJJNdbT_R9",
        "colab_type": "code",
        "colab": {}
      },
      "source": [
        "a_null_2=np.empty([2,2,2,2]) #uninitialized and output may vary\n",
        "a_null_2"
      ],
      "execution_count": 0,
      "outputs": []
    },
    {
      "cell_type": "markdown",
      "metadata": {
        "id": "6gl12f7jK6n5",
        "colab_type": "text"
      },
      "source": [
        "#nD array\n",
        "tensor dimension depend on the number of paranthesis you have entered. Let's see the below examples.\n"
      ]
    },
    {
      "cell_type": "code",
      "metadata": {
        "id": "1Z7jrgSdKDbJ",
        "colab_type": "code",
        "colab": {}
      },
      "source": [
        "a_3=np.array([])\n",
        "print('dimension of the array a_3 is:',np.ndim(a_3))\n",
        "\n",
        "a_4=np.array([()])\n",
        "print('dimension of the array a_4 is:',np.ndim(a_4))\n",
        "\n",
        "a_5=np.array([((()))])      #only giving paranthersis does not increases array dimension.\n",
        "print('dimension of the array a_5 is:',np.ndim(a_5))\n",
        "\n",
        "a_6=np.array([(((1,2),(3,4,5),(8,3,1,4)))])\n",
        "print('dimension of the array a_6 is:',np.ndim(a_6))\n",
        "\n",
        "a_7=np.array([((((1,2,3),(4,5,6))))])     #this is an array of sequence of sequence of sequences.\n",
        "print('dimension of the array a_7 is:',np.ndim(a_7))\n",
        "\n",
        "a_8=np.array([((((1,2),(2,3)),((3,2),(2,3))),((4,5),(6,7)))])\n",
        "print('dimension of the array a_8 is:',np.ndim(a_8))"
      ],
      "execution_count": 0,
      "outputs": []
    },
    {
      "cell_type": "code",
      "metadata": {
        "id": "i98Q8H1bG0dI",
        "colab_type": "code",
        "colab": {}
      },
      "source": [
        "a_test=np.arange(16)\n",
        "print('created array is:',a_test)\n",
        "a_test_1=np.reshape(a_test,(2,2,1))\n",
        "print(\"reshaped array is\",a_test_1)\n",
        "print(np.ndim(a_test_1))"
      ],
      "execution_count": 0,
      "outputs": []
    },
    {
      "cell_type": "markdown",
      "metadata": {
        "id": "xPp68hZVl5zF",
        "colab_type": "text"
      },
      "source": [
        "date: 21st october, 2019"
      ]
    },
    {
      "cell_type": "code",
      "metadata": {
        "id": "vv-EvOwHHjLE",
        "colab_type": "code",
        "outputId": "4c5ac677-e584-4b28-cc64-685ed79852aa",
        "colab": {
          "base_uri": "https://localhost:8080/",
          "height": 87
        }
      },
      "source": [
        "a_test_10=np.array([(2,3,5),(4,5,6)])\n",
        "print(a_test_10)\n",
        "print(np.shape(a_test_10))\n",
        "print(np.ndim(a_test_10))"
      ],
      "execution_count": 0,
      "outputs": [
        {
          "output_type": "stream",
          "text": [
            "[[2 3 5]\n",
            " [4 5 6]]\n",
            "(2, 3)\n",
            "2\n"
          ],
          "name": "stdout"
        }
      ]
    },
    {
      "cell_type": "code",
      "metadata": {
        "id": "KMWzM43bmbxK",
        "colab_type": "code",
        "outputId": "a3467e28-b981-42c9-dbb8-c7d1f632f675",
        "colab": {
          "base_uri": "https://localhost:8080/",
          "height": 52
        }
      },
      "source": [
        "#converting from list to array\n",
        "a_test_11=[1,2,3]\n",
        "a_test_12=np.asarray(a_test_11,float)\n",
        "print('created list is:',a_test_11,'and its type is:',type(a_test_11))\n",
        "print('converted array is:',a_test_12,'and its type is:',type(a_test_12))"
      ],
      "execution_count": 0,
      "outputs": [
        {
          "output_type": "stream",
          "text": [
            "created list is: [1, 2, 3] and its type is: <class 'list'>\n",
            "converted array is: [1. 2. 3.] and its type is: <class 'numpy.ndarray'>\n"
          ],
          "name": "stdout"
        }
      ]
    },
    {
      "cell_type": "code",
      "metadata": {
        "id": "zkYDc3jRnAlr",
        "colab_type": "code",
        "outputId": "ea724031-3c25-4523-d232-bed1be7bd793",
        "colab": {
          "base_uri": "https://localhost:8080/",
          "height": 105
        }
      },
      "source": [
        "#transpose of an array\n",
        "a_test_13=np.random.random((2,3))\n",
        "print(a_test_13)\n",
        "print(\"transpose is:\",a_test_13.T)#procedure to write the transpose"
      ],
      "execution_count": 0,
      "outputs": [
        {
          "output_type": "stream",
          "text": [
            "[[0.07102627 0.20596904 0.41549543]\n",
            " [0.79017582 0.59755846 0.03318607]]\n",
            "transpose is: [[0.07102627 0.79017582]\n",
            " [0.20596904 0.59755846]\n",
            " [0.41549543 0.03318607]]\n"
          ],
          "name": "stdout"
        }
      ]
    },
    {
      "cell_type": "code",
      "metadata": {
        "id": "oxLyTjRbqTEM",
        "colab_type": "code",
        "outputId": "86fe62a8-224b-4935-e157-de9f91dc2bce",
        "colab": {
          "base_uri": "https://localhost:8080/",
          "height": 52
        }
      },
      "source": [
        "#floor values\n",
        "a_test_14=np.floor((np.random.random((2,3)))*10)\n",
        "print(a_test_14)"
      ],
      "execution_count": 0,
      "outputs": [
        {
          "output_type": "stream",
          "text": [
            "[[1. 3. 4.]\n",
            " [6. 2. 4.]]\n"
          ],
          "name": "stdout"
        }
      ]
    },
    {
      "cell_type": "code",
      "metadata": {
        "id": "mDAPfhGlvLsx",
        "colab_type": "code",
        "colab": {}
      },
      "source": [
        "\n"
      ],
      "execution_count": 0,
      "outputs": []
    },
    {
      "cell_type": "markdown",
      "metadata": {
        "id": "6eJYqYBZvZNh",
        "colab_type": "text"
      },
      "source": [
        "Inner and Outer product\n",
        "![basic explanation](https://drive.google.com/uc?id=1Kv59N9xlkG2PswdPoCE1F3iWtdQdhxea)\n"
      ]
    },
    {
      "cell_type": "code",
      "metadata": {
        "id": "SsmhSUDTrEVO",
        "colab_type": "code",
        "outputId": "6780eac8-a0be-4917-9207-bc1b85165db4",
        "colab": {
          "base_uri": "https://localhost:8080/",
          "height": 158
        }
      },
      "source": [
        "#inner and outer product\n",
        "a_test_15=np.array([(2,3,5),(4,5,6)])\n",
        "a_test_16=np.array([(1,2,3),(4,5,6)])\n",
        "print(np.inner(a_test_15,a_test_16))\n",
        "#this product is element wise multiplication. in this type of product each element is multiplied with each element. \n",
        "#In this case (2,3,5) is multiplied with (1,2,3) first and then (2,3,5) is multiplied with(4,5,6). in the next term\n",
        "#(4,5,6) is multiplied with (1,2,3) and then (4,5,6) is multiplied with (4,5,6).\n",
        "\n",
        "#outer product\n",
        "print('outer product is:',np.outer(a_test_15,a_test_16))\n",
        "#here 2 is multiplied with every element of the other array i.e. 2*1,2*2,2*3,2*4,2*5,2*6\n",
        "#and it is repeated for every other element in the first array."
      ],
      "execution_count": 0,
      "outputs": [
        {
          "output_type": "stream",
          "text": [
            "[[23 53]\n",
            " [32 77]]\n",
            "outer product is: [[ 2  4  6  8 10 12]\n",
            " [ 3  6  9 12 15 18]\n",
            " [ 5 10 15 20 25 30]\n",
            " [ 4  8 12 16 20 24]\n",
            " [ 5 10 15 20 25 30]\n",
            " [ 6 12 18 24 30 36]]\n"
          ],
          "name": "stdout"
        }
      ]
    },
    {
      "cell_type": "code",
      "metadata": {
        "id": "e0zmHO6xr9aq",
        "colab_type": "code",
        "colab": {
          "base_uri": "https://localhost:8080/",
          "height": 167
        },
        "outputId": "f8ac173a-cbc6-4ef1-caf8-774e1f7e0bb3"
      },
      "source": [
        "#dot product\n",
        "print('the dot product of the previous two matrices is:',np.dot(a_test_15,a_test_16))\n",
        "#its creating an error duee to shape mismatch. let's rectify it"
      ],
      "execution_count": 28,
      "outputs": [
        {
          "output_type": "error",
          "ename": "ValueError",
          "evalue": "ignored",
          "traceback": [
            "\u001b[0;31m---------------------------------------------------------------------------\u001b[0m",
            "\u001b[0;31mValueError\u001b[0m                                Traceback (most recent call last)",
            "\u001b[0;32m<ipython-input-28-dc15ac6783fd>\u001b[0m in \u001b[0;36m<module>\u001b[0;34m()\u001b[0m\n\u001b[0;32m----> 1\u001b[0;31m \u001b[0mprint\u001b[0m\u001b[0;34m(\u001b[0m\u001b[0;34m'the dot product of the previous two matrices is:'\u001b[0m\u001b[0;34m,\u001b[0m\u001b[0mnp\u001b[0m\u001b[0;34m.\u001b[0m\u001b[0mdot\u001b[0m\u001b[0;34m(\u001b[0m\u001b[0ma_test_15\u001b[0m\u001b[0;34m,\u001b[0m\u001b[0ma_test_16\u001b[0m\u001b[0;34m)\u001b[0m\u001b[0;34m)\u001b[0m\u001b[0;34m\u001b[0m\u001b[0;34m\u001b[0m\u001b[0m\n\u001b[0m",
            "\u001b[0;31mValueError\u001b[0m: shapes (2,3) and (2,3) not aligned: 3 (dim 1) != 2 (dim 0)"
          ]
        }
      ]
    },
    {
      "cell_type": "code",
      "metadata": {
        "id": "nBhFmKApx6eZ",
        "colab_type": "code",
        "colab": {
          "base_uri": "https://localhost:8080/",
          "height": 52
        },
        "outputId": "fd1debd2-0cf0-4f1d-a0a8-1b820858d3c9"
      },
      "source": [
        "a_test_17=np.ones((2,3))\n",
        "a_test_18=np.ones((3,2))\n",
        "print('the dot product of the previous two matrices is:',np.dot(a_test_17,a_test_18))"
      ],
      "execution_count": 34,
      "outputs": [
        {
          "output_type": "stream",
          "text": [
            "the dot product of the previous two matrices is: [[3. 3.]\n",
            " [3. 3.]]\n"
          ],
          "name": "stdout"
        }
      ]
    },
    {
      "cell_type": "code",
      "metadata": {
        "id": "kFdzyAQbyGcn",
        "colab_type": "code",
        "colab": {
          "base_uri": "https://localhost:8080/",
          "height": 123
        },
        "outputId": "52728e5a-d484-458f-c8c1-0eedb6f24b5a"
      },
      "source": [
        "#getting sum\n",
        "print(a_test_17)\n",
        "print(a_test_17.sum())#addition of each element as a scalar\n",
        "print(a_test_17.sum(axis=0))#raddition of every column\n",
        "print(a_test_17.sum(axis=1))#addition of every row\n",
        "print(a_test_17.max())#the max value among each element"
      ],
      "execution_count": 41,
      "outputs": [
        {
          "output_type": "stream",
          "text": [
            "[[1. 1. 1.]\n",
            " [1. 1. 1.]]\n",
            "6.0\n",
            "[2. 2. 2.]\n",
            "[3. 3.]\n",
            "1.0\n"
          ],
          "name": "stdout"
        }
      ]
    },
    {
      "cell_type": "code",
      "metadata": {
        "id": "aprMibVgyyCt",
        "colab_type": "code",
        "colab": {}
      },
      "source": [
        ""
      ],
      "execution_count": 0,
      "outputs": []
    }
  ]
}