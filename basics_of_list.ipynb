{
  "nbformat": 4,
  "nbformat_minor": 0,
  "metadata": {
    "colab": {
      "name": "basics of list.ipynb",
      "provenance": [],
      "collapsed_sections": [],
      "include_colab_link": true
    },
    "kernelspec": {
      "name": "python3",
      "display_name": "Python 3"
    }
  },
  "cells": [
    {
      "cell_type": "markdown",
      "metadata": {
        "id": "view-in-github",
        "colab_type": "text"
      },
      "source": [
        "<a href=\"https://colab.research.google.com/github/aryadeo/python_basics/blob/master/basics_of_list.ipynb\" target=\"_parent\"><img src=\"https://colab.research.google.com/assets/colab-badge.svg\" alt=\"Open In Colab\"/></a>"
      ]
    },
    {
      "cell_type": "code",
      "metadata": {
        "id": "REZCmkyWMOOa",
        "colab_type": "code",
        "colab": {
          "base_uri": "https://localhost:8080/",
          "height": 34
        },
        "outputId": "7b9bec77-61dd-47d7-d4d9-61c862ab3b68"
      },
      "source": [
        "a=2\n",
        "b=True\n",
        "c='arya'\n",
        "d=[a,b,c]\n",
        "print(d)"
      ],
      "execution_count": 1,
      "outputs": [
        {
          "output_type": "stream",
          "text": [
            "[2, True, 'arya']\n"
          ],
          "name": "stdout"
        }
      ]
    },
    {
      "cell_type": "code",
      "metadata": {
        "id": "Qp--nHBkNUOp",
        "colab_type": "code",
        "colab": {
          "base_uri": "https://localhost:8080/",
          "height": 34
        },
        "outputId": "1f7f08a9-e8d6-4ac7-c14e-d732abc04420"
      },
      "source": [
        "d.append('jyoti')\n",
        "print(d)"
      ],
      "execution_count": 2,
      "outputs": [
        {
          "output_type": "stream",
          "text": [
            "[2, True, 'arya', 'jyoti']\n"
          ],
          "name": "stdout"
        }
      ]
    },
    {
      "cell_type": "code",
      "metadata": {
        "id": "8UhfBJ79Nt7S",
        "colab_type": "code",
        "colab": {
          "base_uri": "https://localhost:8080/",
          "height": 34
        },
        "outputId": "3baa1f3e-21a1-4625-9826-5657f1326722"
      },
      "source": [
        "e=['deo','bbsr',15,8.99]\n",
        "d +=e # this is equivalent to d=d+e\n",
        "print(d)"
      ],
      "execution_count": 3,
      "outputs": [
        {
          "output_type": "stream",
          "text": [
            "[2, True, 'arya', 'jyoti', 'deo', 'bbsr', 15, 8.99]\n"
          ],
          "name": "stdout"
        }
      ]
    },
    {
      "cell_type": "code",
      "metadata": {
        "id": "VYxCMf1tOWao",
        "colab_type": "code",
        "colab": {
          "base_uri": "https://localhost:8080/",
          "height": 34
        },
        "outputId": "13818bae-9607-416a-e522-a5da91ceb64b"
      },
      "source": [
        "d[2]='aryadeo'\n",
        "print(d)"
      ],
      "execution_count": 7,
      "outputs": [
        {
          "output_type": "stream",
          "text": [
            "[2, True, 'aryadeo', 'jyoti', 'deo', 'bbsr', 15, 8.99]\n"
          ],
          "name": "stdout"
        }
      ]
    },
    {
      "cell_type": "code",
      "metadata": {
        "id": "Couf_KdsOpfS",
        "colab_type": "code",
        "colab": {
          "base_uri": "https://localhost:8080/",
          "height": 87
        },
        "outputId": "36560efd-7e98-42dd-ad39-072423908e09"
      },
      "source": [
        "f=d\n",
        "print('f=',f)\n",
        "d[2]='aryadeo16'\n",
        "print('d=',d,'f=',f)\n",
        "# Here it can be observed that f[2] is also getting change. To avoid this overwriting we have to go for deep copying.\n",
        "#To do so, we can store the data by converting it into list. lets check this.\n",
        "g=list(d) # alternative: g=d[:] %%%%%%% this is an example of hard copying\n",
        "print('g=',g)\n",
        "d[2]='aryadeo17'\n",
        "print('d=',d,'g=',g)"
      ],
      "execution_count": 15,
      "outputs": [
        {
          "output_type": "stream",
          "text": [
            "f= [2, True, 'aryadeo17', 'jyoti', 'deo', 'bbsr', 15, 8.99]\n",
            "d= [2, True, 'aryadeo16', 'jyoti', 'deo', 'bbsr', 15, 8.99] f= [2, True, 'aryadeo16', 'jyoti', 'deo', 'bbsr', 15, 8.99]\n",
            "g= [2, True, 'aryadeo16', 'jyoti', 'deo', 'bbsr', 15, 8.99]\n",
            "d= [2, True, 'aryadeo17', 'jyoti', 'deo', 'bbsr', 15, 8.99] g= [2, True, 'aryadeo16', 'jyoti', 'deo', 'bbsr', 15, 8.99]\n"
          ],
          "name": "stdout"
        }
      ]
    },
    {
      "cell_type": "code",
      "metadata": {
        "id": "UeDYAbDQTA7f",
        "colab_type": "code",
        "outputId": "770afb9c-12b2-4c42-8a3e-c1ac939f51b9",
        "colab": {
          "base_uri": "https://localhost:8080/",
          "height": 34
        }
      },
      "source": [
        "a_test=list('arya')\n",
        "print(a_test)"
      ],
      "execution_count": 5,
      "outputs": [
        {
          "output_type": "stream",
          "text": [
            "['a', 'r', 'y', 'a']\n"
          ],
          "name": "stdout"
        }
      ]
    },
    {
      "cell_type": "code",
      "metadata": {
        "id": "G3s_7NsXT_0_",
        "colab_type": "code",
        "outputId": "f66c03ce-81d4-43f5-98aa-69fc0ffa7b41",
        "colab": {
          "base_uri": "https://localhost:8080/",
          "height": 34
        }
      },
      "source": [
        "a_test.append(list('jyoti'))\n",
        "print(a_test)"
      ],
      "execution_count": 7,
      "outputs": [
        {
          "output_type": "stream",
          "text": [
            "['a', 'r', 'y', 'a', ['j', 'y', 'o', 't', 'i']]\n"
          ],
          "name": "stdout"
        }
      ]
    },
    {
      "cell_type": "code",
      "metadata": {
        "id": "Nd03E9zGbQqw",
        "colab_type": "code",
        "colab": {
          "base_uri": "https://localhost:8080/",
          "height": 176
        },
        "outputId": "9dff4fb6-7899-43b5-94e5-a0624feb9a31"
      },
      "source": [
        "#to check the length of a list\n",
        "d_length=len(d)\n",
        "print(d_length)\n",
        "\n",
        "# lets check a for loop using length\n",
        "for i in range (len(d)):\n",
        "  print(d[i])"
      ],
      "execution_count": 18,
      "outputs": [
        {
          "output_type": "stream",
          "text": [
            "8\n",
            "2\n",
            "True\n",
            "aryadeo17\n",
            "jyoti\n",
            "deo\n",
            "bbsr\n",
            "15\n",
            "8.99\n"
          ],
          "name": "stdout"
        }
      ]
    },
    {
      "cell_type": "code",
      "metadata": {
        "id": "vbuCc6THYLkX",
        "colab_type": "code",
        "colab": {
          "base_uri": "https://localhost:8080/",
          "height": 34
        },
        "outputId": "e2515a5b-866e-4ebf-88ff-3a2159fc740c"
      },
      "source": [
        "#sample program for creating a list of numbers\n",
        "a_list= list(range(5))\n",
        "print(a_list)"
      ],
      "execution_count": 42,
      "outputs": [
        {
          "output_type": "stream",
          "text": [
            "[0, 1, 2, 3, 4]\n"
          ],
          "name": "stdout"
        }
      ]
    },
    {
      "cell_type": "code",
      "metadata": {
        "id": "BIZyyPDRSirh",
        "colab_type": "code",
        "colab": {
          "base_uri": "https://localhost:8080/",
          "height": 70
        },
        "outputId": "65e2b798-24fc-4c3f-e191-5534ccb0ac4b"
      },
      "source": [
        "# now lets check the map function and filter function\n",
        "test_list=[]\n",
        "for i in range(10):\n",
        "  test_list.append(i)\n",
        "print('test_list=',test_list)\n",
        "h= list(map(lambda x : x**2, test_list)) #lamda creates an inline function. map() creates a map of the inline function into the argument. similar syntax is for filter function.\n",
        "print('h=',h)\n",
        "h1=list(filter(lambda x: x%2==0,test_list ))\n",
        "print('h1=',h1)"
      ],
      "execution_count": 50,
      "outputs": [
        {
          "output_type": "stream",
          "text": [
            "test_list= [0, 1, 2, 3, 4, 5, 6, 7, 8, 9]\n",
            "h= [0, 1, 4, 9, 16, 25, 36, 49, 64, 81]\n",
            "h1= [0, 2, 4, 6, 8]\n"
          ],
          "name": "stdout"
        }
      ]
    }
  ]
}