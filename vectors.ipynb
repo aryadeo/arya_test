{
  "nbformat": 4,
  "nbformat_minor": 0,
  "metadata": {
    "colab": {
      "name": "vectors.ipynb",
      "provenance": [],
      "collapsed_sections": [],
      "include_colab_link": true
    },
    "kernelspec": {
      "name": "python3",
      "display_name": "Python 3"
    }
  },
  "cells": [
    {
      "cell_type": "markdown",
      "metadata": {
        "id": "view-in-github",
        "colab_type": "text"
      },
      "source": [
        "<a href=\"https://colab.research.google.com/github/aryadeo/python_basics/blob/master/vectors.ipynb\" target=\"_parent\"><img src=\"https://colab.research.google.com/assets/colab-badge.svg\" alt=\"Open In Colab\"/></a>"
      ]
    },
    {
      "cell_type": "code",
      "metadata": {
        "id": "gZuEr_Xopc-I",
        "colab_type": "code",
        "colab": {}
      },
      "source": [
        "import numpy as np\n",
        "import matplotlib.pyplot as plt\n",
        "import seaborn as sns\n",
        "sns.set()"
      ],
      "execution_count": 0,
      "outputs": []
    },
    {
      "cell_type": "code",
      "metadata": {
        "id": "-VsSnFArp12J",
        "colab_type": "code",
        "colab": {}
      },
      "source": [
        "plt.quiver?"
      ],
      "execution_count": 0,
      "outputs": []
    },
    {
      "cell_type": "code",
      "metadata": {
        "id": "7rYBrasxrKwG",
        "colab_type": "code",
        "outputId": "460645da-c0ae-417d-8f1e-1b035a02f8a9",
        "colab": {
          "base_uri": "https://localhost:8080/",
          "height": 267
        }
      },
      "source": [
        "plt.figure()\n",
        "plt.xlim(-5,5)\n",
        "plt.ylim(-5,5)\n",
        "plt.quiver(2,3,1,1,color='r',scale_units='xy',angles='xy',scale=1)#here 'xy' means x+u and y+v\n",
        "plt.show()"
      ],
      "execution_count": 0,
      "outputs": [
        {
          "output_type": "display_data",
          "data": {
            "image/png": "[encoded data removed]",
            "text/plain": [
              "<Figure size 432x288 with 1 Axes>"
            ]
          },
          "metadata": {
            "tags": []
          }
        }
      ]
    },
    {
      "cell_type": "code",
      "metadata": {
        "id": "-AyNxyn1rojX",
        "colab_type": "code",
        "colab": {}
      },
      "source": [
        "def vector_create_test():\n",
        "  \n",
        "  x=int(input('eneter your starting  x location:\\n'))\n",
        "  y=int(input('eneter your starting  y location:\\n'))\n",
        "  \n",
        "  #colors=['r','g','b','k']\n",
        "  #i=0\n",
        "  plt.figure()\n",
        "  plt.xlim(-5,5)\n",
        "  plt.ylim(-5,5)\n",
        "  plt.quiver(x,y,1,1,scale_units='xy',angles='xy',scale=1)#here 'xy' means x+u and y+v\n",
        "  plt.show()"
      ],
      "execution_count": 0,
      "outputs": []
    },
    {
      "cell_type": "code",
      "metadata": {
        "id": "c8nvNarH2e0Q",
        "colab_type": "code",
        "outputId": "ac7de08d-5a16-46a3-9b6f-9414996821e9",
        "colab": {
          "base_uri": "https://localhost:8080/",
          "height": 338
        }
      },
      "source": [
        "vector_create_test()"
      ],
      "execution_count": 0,
      "outputs": [
        {
          "output_type": "stream",
          "text": [
            "eneter your starting  x location:\n",
            "1\n",
            "eneter your starting  y location:\n",
            "1\n"
          ],
          "name": "stdout"
        },
        {
          "output_type": "display_data",
          "data": {
            "image/png": "[encoded data removed]",
            "text/plain": [
              "<Figure size 432x288 with 1 Axes>"
            ]
          },
          "metadata": {
            "tags": []
          }
        }
      ]
    },
    {
      "cell_type": "code",
      "metadata": {
        "id": "Tt48oh_o8p0o",
        "colab_type": "code",
        "colab": {}
      },
      "source": [
        "#defining a function to create vectors based on user input data\n",
        "def vector_create():\n",
        "  x=[]\n",
        "  y=[]\n",
        "  u=[]\n",
        "  v=[]\n",
        "  color_list=['r','g','b','k','y']\n",
        "  j=0\n",
        "\n",
        "  \n",
        "  n=int(input('enter the number of vectors you want to create'))\n",
        "  for i in range(n):\n",
        "    x.append(int(input('enter the starting x location of the vector')))\n",
        "    y.append(int(input('enter the starting y location of the vector')))\n",
        "    u.append(int(input('enter the x_span of the vector')))\n",
        "    v.append(int(input('enter the y_span of the vector')))\n",
        "  \n",
        "  x_1=np.array(x)\n",
        "  y_1=np.array(y)\n",
        "  #x_1_max=np.max(x_1)\n",
        "  #y_1_max=np.max(y_1)\n",
        "  plt.figure()\n",
        "  plt.xlim(np.min(x_1)-5,np.max(x_1)+5)\n",
        "  plt.ylim(np.min(y_1)-5,np.max(y_1)+5)\n",
        "\n",
        "  for i in range(len(x)):\n",
        "    plt.quiver(x[i],y[i],u[i],v[i],angles='xy',scale=1,scale_units='xy',color=color_list[j%len(color_list)])\n",
        "    j+=1\n",
        "  \n",
        "  plt.show()"
      ],
      "execution_count": 0,
      "outputs": []
    },
    {
      "cell_type": "code",
      "metadata": {
        "id": "ns9N-f1T9Pxe",
        "colab_type": "code",
        "outputId": "4ef94150-39e8-4267-e91e-fb0e98cf0605",
        "colab": {
          "base_uri": "https://localhost:8080/",
          "height": 645
        }
      },
      "source": [
        "vector_create()"
      ],
      "execution_count": 0,
      "outputs": [
        {
          "output_type": "stream",
          "text": [
            "enter the number of vectors you want to create5\n",
            "enter the starting x location of the vector1\n",
            "enter the starting y location of the vector1\n",
            "enter the x_span of the vector1\n",
            "enter the y_span of the vector1\n",
            "enter the starting x location of the vector2\n",
            "enter the starting y location of the vector2\n",
            "enter the x_span of the vector-1\n",
            "enter the y_span of the vector-1\n",
            "enter the starting x location of the vector3\n",
            "enter the starting y location of the vector3\n",
            "enter the x_span of the vector3\n",
            "enter the y_span of the vector3\n",
            "enter the starting x location of the vector4\n",
            "enter the starting y location of the vector4\n",
            "enter the x_span of the vector-1\n",
            "enter the y_span of the vector-1\n",
            "enter the starting x location of the vector5\n",
            "enter the starting y location of the vector5\n",
            "enter the x_span of the vector5\n",
            "enter the y_span of the vector5\n"
          ],
          "name": "stdout"
        },
        {
          "output_type": "display_data",
          "data": {
            "image/png": "[encoded data removed]",
            "text/plain": [
              "<Figure size 432x288 with 1 Axes>"
            ]
          },
          "metadata": {
            "tags": []
          }
        }
      ]
    },
    {
      "cell_type": "code",
      "metadata": {
        "id": "S_j4CoG3J0Q7",
        "colab_type": "code",
        "colab": {}
      },
      "source": [
        "#resuming coding on 12/11/2019\n",
        "#objective: to create a function helpful in creatuing vectors based on the input data.\n",
        "#vect_data=np.array()\n",
        "def vector_plot(vect_data):\n",
        "  x_1=[]\n",
        "  y_1=[]\n",
        "  color_list=['r','g','b','k','y']\n",
        "  j=0\n",
        "\n",
        "  for data in range(len(vect_data)):\n",
        "    for i in range(len(vect_data[data])):\n",
        "      x_1.append(vect_data[data][0])\n",
        "      y_1.append(vect_data[data][1])\n",
        "  np.asarray(x_1)\n",
        "  np.asarray(y_1)\n",
        "  plt.figure()\n",
        "  plt.xlim(np.min(x_1)-5,np.max(x_1)+5)\n",
        "  plt.ylim(np.min(y_1)-5,np.max(y_1)+5)\n",
        "\n",
        "  for data in range(len(vect_data)):\n",
        "    for i in range(len(vect_data[data])):\n",
        "      plt.quiver(vect_data[data][0],vect_data[data][1],vect_data[data][2],vect_data[data][3],color=color_list[j%len(color_list)],scale_units='xy',angles='xy',scale=1)\n",
        "    j+=1\n",
        "\n",
        "  plt.show()"
      ],
      "execution_count": 0,
      "outputs": []
    },
    {
      "cell_type": "code",
      "metadata": {
        "id": "eRztuHd2vlQE",
        "colab_type": "code",
        "colab": {}
      },
      "source": [
        "vector_data=[np.asarray([1,2,1,1]), np.asarray([1,2,-1,1]), np.asarray([1,2,1,-1]), np.asarray([1,2,-1,-1]), np.asarray([1,2,1,4]),np.asarray([1,2,1,-4])]"
      ],
      "execution_count": 0,
      "outputs": []
    },
    {
      "cell_type": "code",
      "metadata": {
        "id": "ThSf58fO0gpv",
        "colab_type": "code",
        "colab": {
          "base_uri": "https://localhost:8080/",
          "height": 267
        },
        "outputId": "9e9fc7c6-1998-469a-b5b9-c929561b5c6d"
      },
      "source": [
        "vector_plot(vector_data)"
      ],
      "execution_count": 35,
      "outputs": [
        {
          "output_type": "display_data",
          "data": {
            "image/png": "[encoded data removed]",
            "text/plain": [
              "<Figure size 432x288 with 1 Axes>"
            ]
          },
          "metadata": {
            "tags": []
          }
        }
      ]
    },
    {
      "cell_type": "code",
      "metadata": {
        "id": "Irv5c-Yh3-ST",
        "colab_type": "code",
        "colab": {
          "base_uri": "https://localhost:8080/",
          "height": 267
        },
        "outputId": "95410e19-2bb5-4fae-94b3-2091ee776022"
      },
      "source": [
        "#addition of vectors\n",
        "vector_plot([vector_data[0],vector_data[1],vector_data[0]+vector_data[1]])"
      ],
      "execution_count": 36,
      "outputs": [
        {
          "output_type": "display_data",
          "data": {
            "image/png": "[encoded data removed]",
            "text/plain": [
              "<Figure size 432x288 with 1 Axes>"
            ]
          },
          "metadata": {
            "tags": []
          }
        }
      ]
    },
    {
      "cell_type": "code",
      "metadata": {
        "id": "Aa5-rJCr4peM",
        "colab_type": "code",
        "colab": {}
      },
      "source": [
        "#lets do the same with vector starting from (0,0) co-ordinate\n",
        "#now lets change the vector data\n",
        "vector_data=[np.asarray([0,0,1,1]), np.asarray([0,0,-1,1])]"
      ],
      "execution_count": 0,
      "outputs": []
    },
    {
      "cell_type": "code",
      "metadata": {
        "id": "95JLcVDo4y7O",
        "colab_type": "code",
        "colab": {
          "base_uri": "https://localhost:8080/",
          "height": 267
        },
        "outputId": "6a87831e-1f9b-43c8-c1be-aaaa20e26cee"
      },
      "source": [
        "#lets plot the two vectors along with its resultant from addition.\n",
        "vector_plot([vector_data[0],vector_data[1],vector_data[0]+vector_data[1]])"
      ],
      "execution_count": 39,
      "outputs": [
        {
          "output_type": "display_data",
          "data": {
            "image/png": "[encoded data removed]",
            "text/plain": [
              "<Figure size 432x288 with 1 Axes>"
            ]
          },
          "metadata": {
            "tags": []
          }
        }
      ]
    },
    {
      "cell_type": "code",
      "metadata": {
        "id": "iR801ZLq55YC",
        "colab_type": "code",
        "colab": {
          "base_uri": "https://localhost:8080/",
          "height": 267
        },
        "outputId": "093ed9ea-86b2-49f7-85d6-12ed75d5546c"
      },
      "source": [
        "#substraction is similar\n",
        "vector_plot([vector_data[0],vector_data[1],vector_data[0] - vector_data[1]])"
      ],
      "execution_count": 40,
      "outputs": [
        {
          "output_type": "display_data",
          "data": {
            "image/png": "[encoded data removed]",
            "text/plain": [
              "<Figure size 432x288 with 1 Axes>"
            ]
          },
          "metadata": {
            "tags": []
          }
        }
      ]
    },
    {
      "cell_type": "markdown",
      "metadata": {
        "id": "IcH1fqe27PBU",
        "colab_type": "text"
      },
      "source": [
        "#Dot product"
      ]
    },
    {
      "cell_type": "markdown",
      "metadata": {
        "id": "nrwQ-Zwf7Rqf",
        "colab_type": "text"
      },
      "source": [
        "$\\vec{a}\\cdot\\vec{b}=|\\vec{a}||\\vec{b}|cos\\theta$"
      ]
    },
    {
      "cell_type": "code",
      "metadata": {
        "id": "b2GIc4eq6IxQ",
        "colab_type": "code",
        "colab": {}
      },
      "source": [
        "np.dot?"
      ],
      "execution_count": 0,
      "outputs": []
    },
    {
      "cell_type": "code",
      "metadata": {
        "id": "1VdHl-Ey8bXg",
        "colab_type": "code",
        "colab": {
          "base_uri": "https://localhost:8080/",
          "height": 34
        },
        "outputId": "a88db488-99c7-4fce-c7ac-8f2d71e1fe19"
      },
      "source": [
        "vector_data=[np.asarray([1,2,1,1]), np.asarray([1,2,-1,1]), np.asarray([1,2,1,-1]), np.asarray([1,2,-1,-1]), np.asarray([1,2,1,4]),np.asarray([1,2,1,-4])]\n",
        "np.dot(vector_data[0],vector_data[5])"
      ],
      "execution_count": 46,
      "outputs": [
        {
          "output_type": "execute_result",
          "data": {
            "text/plain": [
              "2"
            ]
          },
          "metadata": {
            "tags": []
          },
          "execution_count": 46
        }
      ]
    },
    {
      "cell_type": "markdown",
      "metadata": {
        "id": "jG2TUK0d9rKe",
        "colab_type": "text"
      },
      "source": [
        "#Vector Projection\n",
        "$\\vec{a}\\cdot \\vec{b} = |\\vec{a}||\\vec{b}|cos(\\theta)$\n",
        "\n",
        "The magnitude of projection of $\\vec{a}$ on $\\vec{b}$ is \n",
        "\n",
        "$\\\\a_b=|\\vec{a}|cos(\\theta)=\\frac{\\vec{a}\\cdot\\vec{b}}{|\\vec{b}|}$\n",
        "\n",
        "the projected vector can be written as:\n",
        "\n",
        "$\\vec{a_b}=a_b \\hat{b}=a_b \\frac{\\vec{b}}{|\\vec{b}|}$"
      ]
    },
    {
      "cell_type": "code",
      "metadata": {
        "id": "ixXHxLeb8qHd",
        "colab_type": "code",
        "colab": {}
      },
      "source": [
        "a=np.array([1,2])\n",
        "b=np.array([2,3])\n",
        "dot_result=np.dot(a,b)\n",
        "a_b=dot_result/np.linalg.norm(b)\n",
        "a_b_vec=(a_b/np.linalg.norm(b))*b"
      ],
      "execution_count": 0,
      "outputs": []
    },
    {
      "cell_type": "code",
      "metadata": {
        "id": "YNeKFwWtDXp6",
        "colab_type": "code",
        "colab": {
          "base_uri": "https://localhost:8080/",
          "height": 70
        },
        "outputId": "7da023ce-a6c3-4131-be9e-0895191a6967"
      },
      "source": [
        "print(a_b_vec)\n",
        "print(a_b)\n",
        "print(np.linalg.norm(a_b_vec))"
      ],
      "execution_count": 55,
      "outputs": [
        {
          "output_type": "stream",
          "text": [
            "[1.23076923 1.84615385]\n",
            "2.2188007849009166\n",
            "2.2188007849009166\n"
          ],
          "name": "stdout"
        }
      ]
    }
  ]
}