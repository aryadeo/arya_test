{
  "nbformat": 4,
  "nbformat_minor": 0,
  "metadata": {
    "colab": {
      "name": "vectors.ipynb",
      "provenance": [],
      "collapsed_sections": [],
      "include_colab_link": true
    },
    "kernelspec": {
      "name": "python3",
      "display_name": "Python 3"
    }
  },
  "cells": [
    {
      "cell_type": "markdown",
      "metadata": {
        "id": "view-in-github",
        "colab_type": "text"
      },
      "source": [
        "<a href=\"https://colab.research.google.com/github/aryadeo/python_basics/blob/master/vectors.ipynb\" target=\"_parent\"><img src=\"https://colab.research.google.com/assets/colab-badge.svg\" alt=\"Open In Colab\"/></a>"
      ]
    },
    {
      "cell_type": "code",
      "metadata": {
        "id": "gZuEr_Xopc-I",
        "colab_type": "code",
        "colab": {}
      },
      "source": [
        "import numpy as np\n",
        "import matplotlib.pyplot as plt\n",
        "import seaborn as sns\n",
        "sns.set()"
      ],
      "execution_count": 0,
      "outputs": []
    },
    {
      "cell_type": "code",
      "metadata": {
        "id": "-VsSnFArp12J",
        "colab_type": "code",
        "colab": {}
      },
      "source": [
        "plt.quiver?"
      ],
      "execution_count": 0,
      "outputs": []
    },
    {
      "cell_type": "code",
      "metadata": {
        "id": "7rYBrasxrKwG",
        "colab_type": "code",
        "outputId": "460645da-c0ae-417d-8f1e-1b035a02f8a9",
        "colab": {
          "base_uri": "https://localhost:8080/",
          "height": 267
        }
      },
      "source": [
        "plt.figure()\n",
        "plt.xlim(-5,5)\n",
        "plt.ylim(-5,5)\n",
        "plt.quiver(2,3,1,1,color='r',scale_units='xy',angles='xy',scale=1)#here 'xy' means x+u and y+v\n",
        "plt.show()"
      ],
      "execution_count": 0,
      "outputs": [
        {
          "output_type": "display_data",
          "data": {
            "image/png": "[encoded data removed]",
            "text/plain": [
              "<Figure size 432x288 with 1 Axes>"
            ]
          },
          "metadata": {
            "tags": []
          }
        }
      ]
    },
    {
      "cell_type": "code",
      "metadata": {
        "id": "-AyNxyn1rojX",
        "colab_type": "code",
        "colab": {}
      },
      "source": [
        "def vector_create_test():\n",
        "  \n",
        "  x=int(input('eneter your starting  x location:\\n'))\n",
        "  y=int(input('eneter your starting  y location:\\n'))\n",
        "  \n",
        "  #colors=['r','g','b','k']\n",
        "  #i=0\n",
        "  plt.figure()\n",
        "  plt.xlim(-5,5)\n",
        "  plt.ylim(-5,5)\n",
        "  plt.quiver(x,y,1,1,scale_units='xy',angles='xy',scale=1)#here 'xy' means x+u and y+v\n",
        "  plt.show()"
      ],
      "execution_count": 0,
      "outputs": []
    },
    {
      "cell_type": "code",
      "metadata": {
        "id": "c8nvNarH2e0Q",
        "colab_type": "code",
        "outputId": "ac7de08d-5a16-46a3-9b6f-9414996821e9",
        "colab": {
          "base_uri": "https://localhost:8080/",
          "height": 338
        }
      },
      "source": [
        "vector_create_test()"
      ],
      "execution_count": 0,
      "outputs": [
        {
          "output_type": "stream",
          "text": [
            "eneter your starting  x location:\n",
            "1\n",
            "eneter your starting  y location:\n",
            "1\n"
          ],
          "name": "stdout"
        },
        {
          "output_type": "display_data",
          "data": {
            "image/png": "[encoded data removed]",
            "text/plain": [
              "<Figure size 432x288 with 1 Axes>"
            ]
          },
          "metadata": {
            "tags": []
          }
        }
      ]
    },
    {
      "cell_type": "code",
      "metadata": {
        "id": "Tt48oh_o8p0o",
        "colab_type": "code",
        "colab": {}
      },
      "source": [
        "def vector_create():\n",
        "  x=[]\n",
        "  y=[]\n",
        "  u=[]\n",
        "  v=[]\n",
        "  color_list=['r','g','b','k','y']\n",
        "  j=0\n",
        "\n",
        "  \n",
        "  n=int(input('enter the number of vectors you want to create'))\n",
        "  for i in range(n):\n",
        "    x.append(int(input('enter the starting x location of the vector')))\n",
        "    y.append(int(input('enter the starting y location of the vector')))\n",
        "    u.append(int(input('enter the x_span of the vector')))\n",
        "    v.append(int(input('enter the y_span of the vector')))\n",
        "  \n",
        "  x_1=np.array(x)\n",
        "  y_1=np.array(y)\n",
        "  #x_1_max=np.max(x_1)\n",
        "  #y_1_max=np.max(y_1)\n",
        "  plt.figure()\n",
        "  plt.xlim(np.min(x_1)-5,np.max(x_1)+5)\n",
        "  plt.ylim(np.min(y_1)-5,np.max(y_1)+5)\n",
        "\n",
        "  for i in range(len(x)):\n",
        "    plt.quiver(x[i],y[i],u[i],v[i],angles='xy',scale=1,scale_units='xy',color=color_list[j%len(color_list)])\n",
        "    j+=1\n",
        "  \n",
        "  plt.show()"
      ],
      "execution_count": 0,
      "outputs": []
    },
    {
      "cell_type": "code",
      "metadata": {
        "id": "ns9N-f1T9Pxe",
        "colab_type": "code",
        "outputId": "4ef94150-39e8-4267-e91e-fb0e98cf0605",
        "colab": {
          "base_uri": "https://localhost:8080/",
          "height": 645
        }
      },
      "source": [
        "vector_create()"
      ],
      "execution_count": 0,
      "outputs": [
        {
          "output_type": "stream",
          "text": [
            "enter the number of vectors you want to create5\n",
            "enter the starting x location of the vector1\n",
            "enter the starting y location of the vector1\n",
            "enter the x_span of the vector1\n",
            "enter the y_span of the vector1\n",
            "enter the starting x location of the vector2\n",
            "enter the starting y location of the vector2\n",
            "enter the x_span of the vector-1\n",
            "enter the y_span of the vector-1\n",
            "enter the starting x location of the vector3\n",
            "enter the starting y location of the vector3\n",
            "enter the x_span of the vector3\n",
            "enter the y_span of the vector3\n",
            "enter the starting x location of the vector4\n",
            "enter the starting y location of the vector4\n",
            "enter the x_span of the vector-1\n",
            "enter the y_span of the vector-1\n",
            "enter the starting x location of the vector5\n",
            "enter the starting y location of the vector5\n",
            "enter the x_span of the vector5\n",
            "enter the y_span of the vector5\n"
          ],
          "name": "stdout"
        },
        {
          "output_type": "display_data",
          "data": {
            "image/png": "[encoded data removed]",
            "text/plain": [
              "<Figure size 432x288 with 1 Axes>"
            ]
          },
          "metadata": {
            "tags": []
          }
        }
      ]
    },
    {
      "cell_type": "code",
      "metadata": {
        "id": "S_j4CoG3J0Q7",
        "colab_type": "code",
        "colab": {}
      },
      "source": [
        "vect_data=np.array()\n",
        "def vector_plot(vector_data):"
      ],
      "execution_count": 0,
      "outputs": []
    },
    {
      "cell_type": "code",
      "metadata": {
        "id": "ImFOhUTQKeWL",
        "colab_type": "code",
        "outputId": "f2625120-c465-402b-b159-25b7cebfe5db",
        "colab": {
          "base_uri": "https://localhost:8080/",
          "height": 132
        }
      },
      "source": [
        "x_test=np.array([1,2,3,4])"
      ],
      "execution_count": 0,
      "outputs": [
        {
          "output_type": "error",
          "ename": "SyntaxError",
          "evalue": "ignored",
          "traceback": [
            "\u001b[0;36m  File \u001b[0;32m\"<ipython-input-73-6fe624370ffb>\"\u001b[0;36m, line \u001b[0;32m1\u001b[0m\n\u001b[0;31m    x_test=[np.array([1,2,3,4])\u001b[0m\n\u001b[0m                               ^\u001b[0m\n\u001b[0;31mSyntaxError\u001b[0m\u001b[0;31m:\u001b[0m unexpected EOF while parsing\n"
          ]
        }
      ]
    },
    {
      "cell_type": "code",
      "metadata": {
        "id": "u3Dz_HRAKlsI",
        "colab_type": "code",
        "outputId": "3f7afc95-9ff4-428f-9d69-2cca7bdf0f67",
        "colab": {
          "base_uri": "https://localhost:8080/",
          "height": 34
        }
      },
      "source": [
        "print(x_test)"
      ],
      "execution_count": 0,
      "outputs": [
        {
          "output_type": "stream",
          "text": [
            "[array([[1, 2, 3, 4]])]\n"
          ],
          "name": "stdout"
        }
      ]
    },
    {
      "cell_type": "code",
      "metadata": {
        "id": "VLy0cKKKKnny",
        "colab_type": "code",
        "colab": {}
      },
      "source": [
        ""
      ],
      "execution_count": 0,
      "outputs": []
    }
  ]
}