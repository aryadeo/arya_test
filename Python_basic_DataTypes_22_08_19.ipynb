{
  "nbformat": 4,
  "nbformat_minor": 0,
  "metadata": {
    "colab": {
      "name": "Python_basic_DataTypes_22_08_19.ipynb",
      "version": "0.3.2",
      "provenance": [],
      "include_colab_link": true
    },
    "kernelspec": {
      "name": "python3",
      "display_name": "Python 3"
    },
    "accelerator": "GPU"
  },
  "cells": [
    {
      "cell_type": "markdown",
      "metadata": {
        "id": "view-in-github",
        "colab_type": "text"
      },
      "source": [
        "<a href=\"https://colab.research.google.com/github/aryadeo/arya_test/blob/master/Python_basic_DataTypes_22_08_19.ipynb\" target=\"_parent\"><img src=\"https://colab.research.google.com/assets/colab-badge.svg\" alt=\"Open In Colab\"/></a>"
      ]
    },
    {
      "cell_type": "code",
      "metadata": {
        "id": "SO8awaBSMzQw",
        "colab_type": "code",
        "colab": {
          "base_uri": "https://localhost:8080/",
          "height": 34
        },
        "outputId": "dab33ef6-97a1-4fe7-a0ea-0b0074a21ca2"
      },
      "source": [
        "name='iphone 5s'\n",
        "type(name)\n",
        "print(name)"
      ],
      "execution_count": 1,
      "outputs": [
        {
          "output_type": "stream",
          "text": [
            "iphone 5s\n"
          ],
          "name": "stdout"
        }
      ]
    },
    {
      "cell_type": "code",
      "metadata": {
        "id": "1dqAbpGVNKwD",
        "colab_type": "code",
        "outputId": "5300db7b-3c37-4ec0-a57e-4642a503272a",
        "colab": {
          "base_uri": "https://localhost:8080/",
          "height": 34
        }
      },
      "source": [
        "secon_var=9.3\n",
        "type(secon_var)"
      ],
      "execution_count": 2,
      "outputs": [
        {
          "output_type": "execute_result",
          "data": {
            "text/plain": [
              "float"
            ]
          },
          "metadata": {
            "tags": []
          },
          "execution_count": 2
        }
      ]
    },
    {
      "cell_type": "markdown",
      "metadata": {
        "colab_type": "text",
        "id": "wWqhA3tYHiDL"
      },
      "source": [
        "HeY arya! How r u?😉"
      ]
    },
    {
      "cell_type": "code",
      "metadata": {
        "id": "3t_hssEuNWti",
        "colab_type": "code",
        "outputId": "eadd7b9a-b1fb-4a02-daa3-36dcda78c697",
        "colab": {
          "base_uri": "https://localhost:8080/",
          "height": 34
        }
      },
      "source": [
        "var_a='5'\n",
        "type(var_a)"
      ],
      "execution_count": 9,
      "outputs": [
        {
          "output_type": "execute_result",
          "data": {
            "text/plain": [
              "str"
            ]
          },
          "metadata": {
            "tags": []
          },
          "execution_count": 9
        }
      ]
    },
    {
      "cell_type": "code",
      "metadata": {
        "id": "CKa0SCVcQjPF",
        "colab_type": "code",
        "colab": {
          "base_uri": "https://localhost:8080/",
          "height": 34
        },
        "outputId": "5d54095e-f89c-4835-d653-0e0ddbdb8472"
      },
      "source": [
        "var_b=\"6\"\n",
        "type(var_b)\n",
        "var_c=var_a+var_b\n",
        "print(var_c)"
      ],
      "execution_count": 11,
      "outputs": [
        {
          "output_type": "stream",
          "text": [
            "56\n"
          ],
          "name": "stdout"
        }
      ]
    },
    {
      "cell_type": "code",
      "metadata": {
        "id": "bQjYpSospV8v",
        "colab_type": "code",
        "colab": {
          "base_uri": "https://localhost:8080/",
          "height": 34
        },
        "outputId": "4db1be86-effd-4aca-9cf5-d9d229b7b593"
      },
      "source": [
        "a=6\n",
        "b=7\n",
        "print(a+b,a-b,a*b,a/b,a//b,a**b)\n",
        "# a//b returns the floor value when a is divided by b.\n",
        "# a**b means a raised to the power b"
      ],
      "execution_count": 13,
      "outputs": [
        {
          "output_type": "stream",
          "text": [
            "13 -1 42 0.8571428571428571 0 279936\n"
          ],
          "name": "stdout"
        }
      ]
    },
    {
      "cell_type": "code",
      "metadata": {
        "id": "Lots_YkKqIP4",
        "colab_type": "code",
        "colab": {}
      },
      "source": [
        "a_bol=a!=b\n",
        "type(a_bol)\n",
        "print(a_bol)"
      ],
      "execution_count": 0,
      "outputs": []
    },
    {
      "cell_type": "code",
      "metadata": {
        "id": "X01m8hbwqSd4",
        "colab_type": "code",
        "colab": {}
      },
      "source": [
        "print(a!=b or a>b)"
      ],
      "execution_count": 0,
      "outputs": []
    },
    {
      "cell_type": "code",
      "metadata": {
        "id": "z7PYZUKtrJRt",
        "colab_type": "code",
        "colab": {}
      },
      "source": [
        "#infinite loop example\n",
        "a_1=True\n",
        "i=0\n",
        "while a_1==True:\n",
        "  print(i)\n",
        "  i+=1"
      ],
      "execution_count": 0,
      "outputs": []
    },
    {
      "cell_type": "code",
      "metadata": {
        "id": "fdgHGZc5sm75",
        "colab_type": "code",
        "colab": {}
      },
      "source": [
        "?\n",
        "#this question mark opens up the search bar to find/replace a word and also describes a searched object"
      ],
      "execution_count": 0,
      "outputs": []
    },
    {
      "cell_type": "code",
      "metadata": {
        "id": "u-WJy79ot9Fr",
        "colab_type": "code",
        "colab": {}
      },
      "source": [
        "def create_square(first_val=1,last_val=5):\n",
        "  \"\"\"this function returns the input raised to the power input as given by the user\"\"\"\n",
        "  for i in range(first_val,last_val):\n",
        "    print(i**i)"
      ],
      "execution_count": 0,
      "outputs": []
    },
    {
      "cell_type": "code",
      "metadata": {
        "id": "_Ja6gwv-vZvZ",
        "colab_type": "code",
        "colab": {
          "base_uri": "https://localhost:8080/",
          "height": 85
        },
        "outputId": "e1dfb096-0d8b-48c8-a235-4c53e14e76d4"
      },
      "source": [
        "create_square()#note that n input argument is given. the values are initialized to the default declared values."
      ],
      "execution_count": 33,
      "outputs": [
        {
          "output_type": "stream",
          "text": [
            "1\n",
            "4\n",
            "27\n",
            "256\n"
          ],
          "name": "stdout"
        }
      ]
    },
    {
      "cell_type": "code",
      "metadata": {
        "id": "J5s9TUBQvfGo",
        "colab_type": "code",
        "colab": {
          "base_uri": "https://localhost:8080/",
          "height": 170
        },
        "outputId": "2a7cfa7c-a3e5-4483-c1a5-5df66f25740e"
      },
      "source": [
        "create_square(1,10)#by giving the input arguments the initialization of the variables are changed."
      ],
      "execution_count": 36,
      "outputs": [
        {
          "output_type": "stream",
          "text": [
            "1\n",
            "4\n",
            "27\n",
            "256\n",
            "3125\n",
            "46656\n",
            "823543\n",
            "16777216\n",
            "387420489\n"
          ],
          "name": "stdout"
        }
      ]
    },
    {
      "cell_type": "code",
      "metadata": {
        "id": "PWGqyOpWwZqu",
        "colab_type": "code",
        "colab": {}
      },
      "source": [
        "create_square? #the information mentioned inside the docstring is being displayed at the output.please check."
      ],
      "execution_count": 0,
      "outputs": []
    },
    {
      "cell_type": "code",
      "metadata": {
        "id": "usno4sLiwdNp",
        "colab_type": "code",
        "colab": {}
      },
      "source": [
        "range?"
      ],
      "execution_count": 0,
      "outputs": []
    },
    {
      "cell_type": "code",
      "metadata": {
        "id": "Z4PMwh9HxAYo",
        "colab_type": "code",
        "colab": {}
      },
      "source": [
        ""
      ],
      "execution_count": 0,
      "outputs": []
    }
  ]
}