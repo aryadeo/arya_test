{
  "nbformat": 4,
  "nbformat_minor": 0,
  "metadata": {
    "colab": {
      "name": "Python_basic_DataTypes_22_08_19.ipynb",
      "provenance": [],
      "include_colab_link": true
    },
    "kernelspec": {
      "name": "python3",
      "display_name": "Python 3"
    },
    "accelerator": "GPU"
  },
  "cells": [
    {
      "cell_type": "markdown",
      "metadata": {
        "id": "view-in-github",
        "colab_type": "text"
      },
      "source": [
        "<a href=\"https://colab.research.google.com/github/aryadeo/python_basics/blob/master/Python_basic_DataTypes_22_08_19.ipynb\" target=\"_parent\"><img src=\"https://colab.research.google.com/assets/colab-badge.svg\" alt=\"Open In Colab\"/></a>"
      ]
    },
    {
      "cell_type": "code",
      "metadata": {
        "id": "SO8awaBSMzQw",
        "colab_type": "code",
        "colab": {}
      },
      "source": [
        "name='iphone 5s'\n",
        "type(name)\n",
        "print(name)"
      ],
      "execution_count": 0,
      "outputs": []
    },
    {
      "cell_type": "code",
      "metadata": {
        "id": "1dqAbpGVNKwD",
        "colab_type": "code",
        "colab": {}
      },
      "source": [
        "secon_var=9.3\n",
        "type(secon_var)"
      ],
      "execution_count": 0,
      "outputs": []
    },
    {
      "cell_type": "markdown",
      "metadata": {
        "colab_type": "text",
        "id": "wWqhA3tYHiDL"
      },
      "source": [
        "HeY arya! How r u?😉"
      ]
    },
    {
      "cell_type": "code",
      "metadata": {
        "id": "3t_hssEuNWti",
        "colab_type": "code",
        "outputId": "eadd7b9a-b1fb-4a02-daa3-36dcda78c697",
        "colab": {
          "base_uri": "https://localhost:8080/",
          "height": 34
        }
      },
      "source": [
        "var_a='5'\n",
        "type(var_a)"
      ],
      "execution_count": 0,
      "outputs": [
        {
          "output_type": "execute_result",
          "data": {
            "text/plain": [
              "str"
            ]
          },
          "metadata": {
            "tags": []
          },
          "execution_count": 9
        }
      ]
    },
    {
      "cell_type": "code",
      "metadata": {
        "id": "CKa0SCVcQjPF",
        "colab_type": "code",
        "outputId": "5d54095e-f89c-4835-d653-0e0ddbdb8472",
        "colab": {
          "base_uri": "https://localhost:8080/",
          "height": 34
        }
      },
      "source": [
        "var_b=\"6\"\n",
        "type(var_b)\n",
        "var_c=var_a+var_b\n",
        "print(var_c)"
      ],
      "execution_count": 0,
      "outputs": [
        {
          "output_type": "stream",
          "text": [
            "56\n"
          ],
          "name": "stdout"
        }
      ]
    },
    {
      "cell_type": "code",
      "metadata": {
        "id": "bQjYpSospV8v",
        "colab_type": "code",
        "outputId": "6a627cfc-bcc3-4785-a32d-411c51427383",
        "colab": {
          "base_uri": "https://localhost:8080/",
          "height": 34
        }
      },
      "source": [
        "a=6\n",
        "b=7\n",
        "print(a+b,a-b,a*b,a/b,a//b,a**b)\n",
        "# a//b returns the floor value when a is divided by b.\n",
        "# a**b means a raised to the power b"
      ],
      "execution_count": 3,
      "outputs": [
        {
          "output_type": "stream",
          "text": [
            "13 -1 42 0.8571428571428571 0 279936\n"
          ],
          "name": "stdout"
        }
      ]
    },
    {
      "cell_type": "code",
      "metadata": {
        "id": "Lots_YkKqIP4",
        "colab_type": "code",
        "colab": {
          "base_uri": "https://localhost:8080/",
          "height": 34
        },
        "outputId": "c04c6f92-423f-4aa8-d263-8ca2900465e3"
      },
      "source": [
        "a_bol=a!=b\n",
        "type(a_bol)\n",
        "print(a_bol)"
      ],
      "execution_count": 5,
      "outputs": [
        {
          "output_type": "stream",
          "text": [
            "True\n"
          ],
          "name": "stdout"
        }
      ]
    },
    {
      "cell_type": "code",
      "metadata": {
        "id": "X01m8hbwqSd4",
        "colab_type": "code",
        "colab": {
          "base_uri": "https://localhost:8080/",
          "height": 34
        },
        "outputId": "a88e0e33-82a9-42f4-96d6-9733bed5c583"
      },
      "source": [
        "print(a!=b or a>b)"
      ],
      "execution_count": 4,
      "outputs": [
        {
          "output_type": "stream",
          "text": [
            "True\n"
          ],
          "name": "stdout"
        }
      ]
    },
    {
      "cell_type": "code",
      "metadata": {
        "id": "z7PYZUKtrJRt",
        "colab_type": "code",
        "colab": {}
      },
      "source": [
        "#infinite loop example\n",
        "a_1=True\n",
        "i=0\n",
        "while a_1==True:\n",
        "  print(i)\n",
        "  i+=1"
      ],
      "execution_count": 0,
      "outputs": []
    },
    {
      "cell_type": "code",
      "metadata": {
        "id": "fdgHGZc5sm75",
        "colab_type": "code",
        "colab": {}
      },
      "source": [
        "?\n",
        "#this question mark opens up the search bar to find/replace a word and also describes a searched object"
      ],
      "execution_count": 0,
      "outputs": []
    },
    {
      "cell_type": "code",
      "metadata": {
        "id": "u-WJy79ot9Fr",
        "colab_type": "code",
        "colab": {}
      },
      "source": [
        "def create_square(first_val=1,last_val=5):\n",
        "  \"\"\"this function returns the input raised to the power input as given by the user\"\"\"\n",
        "  for i in range(first_val,last_val):\n",
        "    print(i**i)"
      ],
      "execution_count": 0,
      "outputs": []
    },
    {
      "cell_type": "code",
      "metadata": {
        "id": "_Ja6gwv-vZvZ",
        "colab_type": "code",
        "colab": {}
      },
      "source": [
        "create_square()#note that n input argument is given. the values are initialized to the default declared values."
      ],
      "execution_count": 0,
      "outputs": []
    },
    {
      "cell_type": "code",
      "metadata": {
        "id": "J5s9TUBQvfGo",
        "colab_type": "code",
        "colab": {}
      },
      "source": [
        "create_square(1,10)#by giving the input arguments the initialization of the variables are changed."
      ],
      "execution_count": 0,
      "outputs": []
    },
    {
      "cell_type": "code",
      "metadata": {
        "id": "PWGqyOpWwZqu",
        "colab_type": "code",
        "colab": {}
      },
      "source": [
        "create_square? #the information mentioned inside the docstring is being displayed at the output.please check."
      ],
      "execution_count": 0,
      "outputs": []
    },
    {
      "cell_type": "code",
      "metadata": {
        "id": "usno4sLiwdNp",
        "colab_type": "code",
        "colab": {
          "base_uri": "https://localhost:8080/",
          "height": 105
        },
        "outputId": "0df15890-d205-4202-a7e6-dadc88b096ea"
      },
      "source": [
        "for i in range(1,10,2):#here the first two argumnets are the limits and the third argument is the step size of increment.\n",
        "  print(i)"
      ],
      "execution_count": 20,
      "outputs": [
        {
          "output_type": "stream",
          "text": [
            "1\n",
            "3\n",
            "5\n",
            "7\n",
            "9\n"
          ],
          "name": "stdout"
        }
      ]
    },
    {
      "cell_type": "code",
      "metadata": {
        "id": "Z4PMwh9HxAYo",
        "colab_type": "code",
        "colab": {}
      },
      "source": [
        "range?"
      ],
      "execution_count": 0,
      "outputs": []
    }
  ]
}