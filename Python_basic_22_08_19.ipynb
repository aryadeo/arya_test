{
  "nbformat": 4,
  "nbformat_minor": 0,
  "metadata": {
    "colab": {
      "name": "Python_basic_22_08_19.ipynb",
      "version": "0.3.2",
      "provenance": [],
      "collapsed_sections": [],
      "include_colab_link": true
    },
    "kernelspec": {
      "name": "python3",
      "display_name": "Python 3"
    },
    "accelerator": "GPU"
  },
  "cells": [
    {
      "cell_type": "markdown",
      "metadata": {
        "id": "view-in-github",
        "colab_type": "text"
      },
      "source": [
        "<a href=\"https://colab.research.google.com/github/aryadeo/python_basics/blob/master/Python_basic_22_08_19.ipynb\" target=\"_parent\"><img src=\"https://colab.research.google.com/assets/colab-badge.svg\" alt=\"Open In Colab\"/></a>"
      ]
    },
    {
      "cell_type": "markdown",
      "metadata": {
        "id": "Z8WjuEatymfp",
        "colab_type": "text"
      },
      "source": [
        "#Basic Variables"
      ]
    },
    {
      "cell_type": "code",
      "metadata": {
        "id": "SO8awaBSMzQw",
        "colab_type": "code",
        "colab": {
          "base_uri": "https://localhost:8080/",
          "height": 34
        },
        "outputId": "dab33ef6-97a1-4fe7-a0ea-0b0074a21ca2"
      },
      "source": [
        "name='iphone 5s'\n",
        "type(name)\n",
        "print(name)"
      ],
      "execution_count": 1,
      "outputs": [
        {
          "output_type": "stream",
          "text": [
            "iphone 5s\n"
          ],
          "name": "stdout"
        }
      ]
    },
    {
      "cell_type": "code",
      "metadata": {
        "id": "1dqAbpGVNKwD",
        "colab_type": "code",
        "outputId": "5300db7b-3c37-4ec0-a57e-4642a503272a",
        "colab": {
          "base_uri": "https://localhost:8080/",
          "height": 34
        }
      },
      "source": [
        "secon_var=9.3\n",
        "type(secon_var)"
      ],
      "execution_count": 2,
      "outputs": [
        {
          "output_type": "execute_result",
          "data": {
            "text/plain": [
              "float"
            ]
          },
          "metadata": {
            "tags": []
          },
          "execution_count": 2
        }
      ]
    },
    {
      "cell_type": "markdown",
      "metadata": {
        "colab_type": "text",
        "id": "wWqhA3tYHiDL"
      },
      "source": [
        "HeY arya! How r u?😉"
      ]
    },
    {
      "cell_type": "code",
      "metadata": {
        "id": "3t_hssEuNWti",
        "colab_type": "code",
        "outputId": "eadd7b9a-b1fb-4a02-daa3-36dcda78c697",
        "colab": {
          "base_uri": "https://localhost:8080/",
          "height": 34
        }
      },
      "source": [
        "var_a='5'\n",
        "type(var_a)"
      ],
      "execution_count": 9,
      "outputs": [
        {
          "output_type": "execute_result",
          "data": {
            "text/plain": [
              "str"
            ]
          },
          "metadata": {
            "tags": []
          },
          "execution_count": 9
        }
      ]
    },
    {
      "cell_type": "code",
      "metadata": {
        "id": "CKa0SCVcQjPF",
        "colab_type": "code",
        "colab": {
          "base_uri": "https://localhost:8080/",
          "height": 34
        },
        "outputId": "5d54095e-f89c-4835-d653-0e0ddbdb8472"
      },
      "source": [
        "var_b=\"6\"\n",
        "type(var_b)\n",
        "var_c=var_a+var_b\n",
        "print(var_c)"
      ],
      "execution_count": 11,
      "outputs": [
        {
          "output_type": "stream",
          "text": [
            "56\n"
          ],
          "name": "stdout"
        }
      ]
    },
    {
      "cell_type": "code",
      "metadata": {
        "id": "bQjYpSospV8v",
        "colab_type": "code",
        "colab": {
          "base_uri": "https://localhost:8080/",
          "height": 34
        },
        "outputId": "4db1be86-effd-4aca-9cf5-d9d229b7b593"
      },
      "source": [
        "a=6\n",
        "b=7\n",
        "print(a+b,a-b,a*b,a/b,a//b,a**b)\n",
        "# a//b returns the floor value when a is divided by b.\n",
        "# a**b means a raised to the power b"
      ],
      "execution_count": 13,
      "outputs": [
        {
          "output_type": "stream",
          "text": [
            "13 -1 42 0.8571428571428571 0 279936\n"
          ],
          "name": "stdout"
        }
      ]
    },
    {
      "cell_type": "code",
      "metadata": {
        "id": "Lots_YkKqIP4",
        "colab_type": "code",
        "colab": {}
      },
      "source": [
        "a_bol=a!=b\n",
        "type(a_bol)\n",
        "print(a_bol)"
      ],
      "execution_count": 0,
      "outputs": []
    },
    {
      "cell_type": "code",
      "metadata": {
        "id": "X01m8hbwqSd4",
        "colab_type": "code",
        "colab": {}
      },
      "source": [
        "print(a!=b or a>b)"
      ],
      "execution_count": 0,
      "outputs": []
    },
    {
      "cell_type": "markdown",
      "metadata": {
        "id": "yIOwNoAXyuqJ",
        "colab_type": "text"
      },
      "source": [
        "#Loop and Function"
      ]
    },
    {
      "cell_type": "code",
      "metadata": {
        "id": "z7PYZUKtrJRt",
        "colab_type": "code",
        "colab": {}
      },
      "source": [
        "#infinite loop example\n",
        "a_1=True\n",
        "i=0\n",
        "while a_1==True:\n",
        "  print(i)\n",
        "  i+=1"
      ],
      "execution_count": 0,
      "outputs": []
    },
    {
      "cell_type": "code",
      "metadata": {
        "id": "fdgHGZc5sm75",
        "colab_type": "code",
        "colab": {}
      },
      "source": [
        "?\n",
        "#this question mark opens up the search bar to find/replace a word and also describes a searched object"
      ],
      "execution_count": 0,
      "outputs": []
    },
    {
      "cell_type": "code",
      "metadata": {
        "id": "u-WJy79ot9Fr",
        "colab_type": "code",
        "colab": {}
      },
      "source": [
        "def create_square(first_val=1,last_val=5):\n",
        "  \"\"\"this function returns the input raised to the power input as given by the user\"\"\"\n",
        "  for i in range(first_val,last_val):\n",
        "    print(i**i)"
      ],
      "execution_count": 0,
      "outputs": []
    },
    {
      "cell_type": "code",
      "metadata": {
        "id": "_Ja6gwv-vZvZ",
        "colab_type": "code",
        "colab": {
          "base_uri": "https://localhost:8080/",
          "height": 85
        },
        "outputId": "e1dfb096-0d8b-48c8-a235-4c53e14e76d4"
      },
      "source": [
        "create_square()#note that n input argument is given. the values are initialized to the default declared values."
      ],
      "execution_count": 33,
      "outputs": [
        {
          "output_type": "stream",
          "text": [
            "1\n",
            "4\n",
            "27\n",
            "256\n"
          ],
          "name": "stdout"
        }
      ]
    },
    {
      "cell_type": "code",
      "metadata": {
        "id": "J5s9TUBQvfGo",
        "colab_type": "code",
        "colab": {
          "base_uri": "https://localhost:8080/",
          "height": 170
        },
        "outputId": "2a7cfa7c-a3e5-4483-c1a5-5df66f25740e"
      },
      "source": [
        "create_square(1,10)#by giving the input arguments the initialization of the variables are changed."
      ],
      "execution_count": 36,
      "outputs": [
        {
          "output_type": "stream",
          "text": [
            "1\n",
            "4\n",
            "27\n",
            "256\n",
            "3125\n",
            "46656\n",
            "823543\n",
            "16777216\n",
            "387420489\n"
          ],
          "name": "stdout"
        }
      ]
    },
    {
      "cell_type": "code",
      "metadata": {
        "id": "PWGqyOpWwZqu",
        "colab_type": "code",
        "colab": {}
      },
      "source": [
        "create_square? #the information mentioned inside the docstring is being displayed at the output.please check."
      ],
      "execution_count": 0,
      "outputs": []
    },
    {
      "cell_type": "code",
      "metadata": {
        "id": "usno4sLiwdNp",
        "colab_type": "code",
        "colab": {}
      },
      "source": [
        "range?"
      ],
      "execution_count": 0,
      "outputs": []
    },
    {
      "cell_type": "markdown",
      "metadata": {
        "id": "dHzPveu0ykIi",
        "colab_type": "text"
      },
      "source": [
        "#List"
      ]
    },
    {
      "cell_type": "code",
      "metadata": {
        "id": "Z4PMwh9HxAYo",
        "colab_type": "code",
        "colab": {
          "base_uri": "https://localhost:8080/",
          "height": 85
        },
        "outputId": "01878b11-c37d-40f2-de26-9ff3a8bb8e15"
      },
      "source": [
        "#list is storing variables of different datatypes.\n",
        "test_list=[name,a,a_bol,b]\n",
        "\n",
        "print(test_list)\n",
        "print(len(test_list))\n",
        "print(test_list[1:3])\n",
        "test_list.append(89)\n",
        "print(test_list)"
      ],
      "execution_count": 62,
      "outputs": [
        {
          "output_type": "stream",
          "text": [
            "['iphone 5s', 6, True, 7]\n",
            "4\n",
            "[6, True]\n",
            "['iphone 5s', 6, True, 7, 89]\n"
          ],
          "name": "stdout"
        }
      ]
    },
    {
      "cell_type": "code",
      "metadata": {
        "id": "5PAGNu1X5E6C",
        "colab_type": "code",
        "colab": {
          "base_uri": "https://localhost:8080/",
          "height": 34
        },
        "outputId": "ddf193ad-4525-499d-c075-6db8cf156f67"
      },
      "source": [
        "test_list_2=test_list #hard copying\n",
        "test_list.append('30')\n",
        "print(test_list_2)"
      ],
      "execution_count": 63,
      "outputs": [
        {
          "output_type": "stream",
          "text": [
            "['iphone 5s', 6, True, 7, 89, '30']\n"
          ],
          "name": "stdout"
        }
      ]
    },
    {
      "cell_type": "markdown",
      "metadata": {
        "id": "-jmYLzGn_wVC",
        "colab_type": "text"
      },
      "source": [
        "in the previous section we are seeing that appending to the parent list is done after copying it to a new list. Still the new list is getting updated. So we have to do deep copyting. \n"
      ]
    },
    {
      "cell_type": "code",
      "metadata": {
        "id": "RFPY47F6_ahP",
        "colab_type": "code",
        "colab": {
          "base_uri": "https://localhost:8080/",
          "height": 85
        },
        "outputId": "182cb270-ddc0-4a63-f9d1-43bae090a058"
      },
      "source": [
        "test_list_3=list(test_list)\n",
        "test_list.append(False)\n",
        "print(test_list)\n",
        "print(test_list_3)#this is not getting udated by the append function of the parent list.\n",
        "\n",
        "#alternative way\n",
        "test_list_4=test_list[:]\n",
        "print(test_list_4)\n",
        "test_list.append('arya')\n",
        "print(test_list)"
      ],
      "execution_count": 65,
      "outputs": [
        {
          "output_type": "stream",
          "text": [
            "['iphone 5s', 6, True, 7, 89, '30', False, False]\n",
            "['iphone 5s', 6, True, 7, 89, '30', False]\n",
            "['iphone 5s', 6, True, 7, 89, '30', False, False]\n",
            "['iphone 5s', 6, True, 7, 89, '30', False, False, 'arya']\n"
          ],
          "name": "stdout"
        }
      ]
    },
    {
      "cell_type": "markdown",
      "metadata": {
        "id": "T9whPqQ2B8Fc",
        "colab_type": "text"
      },
      "source": [
        "Adding two list or appending elements of one list to other"
      ]
    },
    {
      "cell_type": "code",
      "metadata": {
        "id": "PRgGHKPcBUc7",
        "colab_type": "code",
        "colab": {
          "base_uri": "https://localhost:8080/",
          "height": 51
        },
        "outputId": "a9038bc6-1890-40ee-cf04-1dff8692264f"
      },
      "source": [
        "test_list_5=test_list_3+test_list_4\n",
        "print(test_list_5)\n"
      ],
      "execution_count": 102,
      "outputs": [
        {
          "output_type": "stream",
          "text": [
            "['iphone 5s', 6, True, 7, 89, '30', False, 'iphone 5s', 6, True, 7, 89, '30', False, False]\n",
            "[True, False, True, False, False]\n"
          ],
          "name": "stdout"
        }
      ]
    },
    {
      "cell_type": "markdown",
      "metadata": {
        "id": "NbkY4CN7Cezy",
        "colab_type": "text"
      },
      "source": [
        "We also can create a list from the range function"
      ]
    },
    {
      "cell_type": "code",
      "metadata": {
        "id": "qTCDPHuYCIia",
        "colab_type": "code",
        "colab": {
          "base_uri": "https://localhost:8080/",
          "height": 34
        },
        "outputId": "e51e7550-4868-4fc7-b1ca-49c9cdaae52f"
      },
      "source": [
        "range(20)"
      ],
      "execution_count": 67,
      "outputs": [
        {
          "output_type": "execute_result",
          "data": {
            "text/plain": [
              "range(0, 20)"
            ]
          },
          "metadata": {
            "tags": []
          },
          "execution_count": 67
        }
      ]
    },
    {
      "cell_type": "code",
      "metadata": {
        "id": "D5pGfL_WClKK",
        "colab_type": "code",
        "colab": {
          "base_uri": "https://localhost:8080/",
          "height": 34
        },
        "outputId": "06fa5063-8ead-4d45-f622-a5bf3df387a7"
      },
      "source": [
        "range(1,30)"
      ],
      "execution_count": 68,
      "outputs": [
        {
          "output_type": "execute_result",
          "data": {
            "text/plain": [
              "range(1, 30)"
            ]
          },
          "metadata": {
            "tags": []
          },
          "execution_count": 68
        }
      ]
    },
    {
      "cell_type": "code",
      "metadata": {
        "id": "86D_lduHCoWa",
        "colab_type": "code",
        "colab": {
          "base_uri": "https://localhost:8080/",
          "height": 54
        },
        "outputId": "23dd6cbb-938b-45bd-daf1-e9b0bfccfa73"
      },
      "source": [
        "a_test=list(range(1,30))\n",
        "print(a_test)\n",
        "\n",
        "          "
      ],
      "execution_count": 94,
      "outputs": [
        {
          "output_type": "stream",
          "text": [
            "[1, 2, 3, 4, 5, 6, 7, 8, 9, 10, 11, 12, 13, 14, 15, 16, 17, 18, 19, 20, 21, 22, 23, 24, 25, 26, 27, 28, 29]\n"
          ],
          "name": "stdout"
        }
      ]
    },
    {
      "cell_type": "markdown",
      "metadata": {
        "id": "NtG3oUeyGTU0",
        "colab_type": "text"
      },
      "source": [
        "lets checkout the effetct of map and filer functions which are inline functions."
      ]
    },
    {
      "cell_type": "code",
      "metadata": {
        "id": "8IoUuMxVCuk6",
        "colab_type": "code",
        "colab": {
          "base_uri": "https://localhost:8080/",
          "height": 71
        },
        "outputId": "8fff4c5e-126c-4c6b-ee60-877059efb779"
      },
      "source": [
        "b_test=list(map(lambda i: i+3,a_test))\n",
        "c_test=list(filter(lambda i: i%10==0,b_test))\n",
        "print(b_test)\n",
        "print(c_test)"
      ],
      "execution_count": 98,
      "outputs": [
        {
          "output_type": "stream",
          "text": [
            "[4, 5, 6, 7, 8, 9, 10, 11, 12, 13, 14, 15, 16, 17, 18, 19, 20, 21, 22, 23, 24, 25, 26, 27, 28, 29, 30, 31, 32]\n",
            "[10, 20, 30]\n"
          ],
          "name": "stdout"
        }
      ]
    },
    {
      "cell_type": "code",
      "metadata": {
        "id": "97JXdxhFDdqP",
        "colab_type": "code",
        "colab": {
          "base_uri": "https://localhost:8080/",
          "height": 34
        },
        "outputId": "477f268d-ac5e-4862-9f74-99d5dd41adca"
      },
      "source": [
        "#another example of filtering\n",
        "test_filter=list(filter(lambda x: type(x)==bool,test_list_5))\n",
        "print(test_filter)"
      ],
      "execution_count": 103,
      "outputs": [
        {
          "output_type": "stream",
          "text": [
            "[True, False, True, False, False]\n"
          ],
          "name": "stdout"
        }
      ]
    },
    {
      "cell_type": "markdown",
      "metadata": {
        "id": "G9kfNA_xIceV",
        "colab_type": "text"
      },
      "source": [
        "#Tuples,Set,Dictionary"
      ]
    },
    {
      "cell_type": "code",
      "metadata": {
        "id": "RLEWLjMcIiAM",
        "colab_type": "code",
        "colab": {}
      },
      "source": [
        ""
      ],
      "execution_count": 0,
      "outputs": []
    }
  ]
}