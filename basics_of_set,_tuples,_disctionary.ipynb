{
  "nbformat": 4,
  "nbformat_minor": 0,
  "metadata": {
    "colab": {
      "name": "basics of set, tuples, disctionary.ipynb",
      "provenance": [],
      "collapsed_sections": [],
      "toc_visible": true,
      "include_colab_link": true
    },
    "kernelspec": {
      "name": "python3",
      "display_name": "Python 3"
    }
  },
  "cells": [
    {
      "cell_type": "markdown",
      "metadata": {
        "id": "view-in-github",
        "colab_type": "text"
      },
      "source": [
        "<a href=\"https://colab.research.google.com/github/aryadeo/python_basics/blob/master/basics_of_set%2C_tuples%2C_disctionary.ipynb\" target=\"_parent\"><img src=\"https://colab.research.google.com/assets/colab-badge.svg\" alt=\"Open In Colab\"/></a>"
      ]
    },
    {
      "cell_type": "markdown",
      "metadata": {
        "id": "YuC1qlQqSIe0",
        "colab_type": "text"
      },
      "source": [
        "Date: 16th October, 2019\n",
        "This notebook will demonstrate the basics of tuples, sets and dictionary datatypes in pyhton.\n",
        "#Tuples\n",
        "Tuples are similar to list. The only difference between them is that the elements in tuples are immutable. i.e. you can not directly change the elements by assigning a new value to it, which is however possible in case of list.\n",
        "\n",
        "Lets look into it."
      ]
    },
    {
      "cell_type": "code",
      "metadata": {
        "id": "jMNKy_-zSufo",
        "colab_type": "code",
        "outputId": "8e6108b5-6803-4308-dfa7-be68978ccf31",
        "colab": {
          "base_uri": "https://localhost:8080/",
          "height": 52
        }
      },
      "source": [
        "a=list(range(10))\n",
        "print('created test list=',a)\n",
        "\n",
        "b=tuple(range(10))\n",
        "print('created test tuple=',b)"
      ],
      "execution_count": 0,
      "outputs": [
        {
          "output_type": "stream",
          "text": [
            "created test list= [0, 1, 2, 3, 4, 5, 6, 7, 8, 9]\n",
            "created test tuple= (0, 1, 2, 3, 4, 5, 6, 7, 8, 9)\n"
          ],
          "name": "stdout"
        }
      ]
    },
    {
      "cell_type": "markdown",
      "metadata": {
        "id": "pDjOsYsrTGa7",
        "colab_type": "text"
      },
      "source": [
        "After looking at the output, you can see that tuples are enclosed by nparanthesis."
      ]
    },
    {
      "cell_type": "code",
      "metadata": {
        "id": "7N1O8nEHT39r",
        "colab_type": "code",
        "outputId": "26023da3-21b7-4cc2-ea18-d835e8c103cb",
        "colab": {
          "base_uri": "https://localhost:8080/",
          "height": 34
        }
      },
      "source": [
        "# lets try the changing of element\n",
        "a[3]=12\n",
        "print('modified list is=',a)"
      ],
      "execution_count": 0,
      "outputs": [
        {
          "output_type": "stream",
          "text": [
            "modified list is= [0, 1, 2, 12, 4, 5, 6, 7, 8, 9]\n"
          ],
          "name": "stdout"
        }
      ]
    },
    {
      "cell_type": "code",
      "metadata": {
        "id": "-e9YWsNeT29l",
        "colab_type": "code",
        "colab": {}
      },
      "source": [
        "b[3]=12\n",
        "print('modified tuple is=',b)"
      ],
      "execution_count": 0,
      "outputs": []
    },
    {
      "cell_type": "markdown",
      "metadata": {
        "id": "sakbpAmPUAxL",
        "colab_type": "text"
      },
      "source": [
        "The error shows that tuple doses not support item assignment.\n",
        "\n",
        "But what is the benifit in this? Let's check in the below example."
      ]
    },
    {
      "cell_type": "code",
      "metadata": {
        "id": "eewIzVB8T-7z",
        "colab_type": "code",
        "outputId": "1a8df5a2-5d8d-4c13-92fc-76f795f03833",
        "colab": {
          "base_uri": "https://localhost:8080/",
          "height": 34
        }
      },
      "source": [
        "import time\n",
        "tic=time.time()\n",
        "test_list=list(range(1000000))\n",
        "test_list_2=list(map(lambda x:x**2, test_list))\n",
        "toc=time.time()\n",
        "elapsed_time=toc-tic\n",
        "print('elapsed time=',elapsed_time)"
      ],
      "execution_count": 0,
      "outputs": [
        {
          "output_type": "stream",
          "text": [
            "elapsed time= 0.4508364200592041\n"
          ],
          "name": "stdout"
        }
      ]
    },
    {
      "cell_type": "markdown",
      "metadata": {
        "id": "Y3m0U7vAVqr8",
        "colab_type": "text"
      },
      "source": [
        "NOw lets do the same by using a tuple."
      ]
    },
    {
      "cell_type": "code",
      "metadata": {
        "id": "OTuwgb2EVunz",
        "colab_type": "code",
        "outputId": "9fa1bc7c-9ec7-45cc-ea9a-7b5d73fcce80",
        "colab": {
          "base_uri": "https://localhost:8080/",
          "height": 34
        }
      },
      "source": [
        "import time\n",
        "tic=time.time()\n",
        "test_tuple=tuple(range(1000000))\n",
        "test_tuple_2=tuple(map(lambda x:x**2, test_tuple))\n",
        "toc=time.time()\n",
        "elapsed_time=toc-tic\n",
        "print('elapsed time=',elapsed_time)"
      ],
      "execution_count": 0,
      "outputs": [
        {
          "output_type": "stream",
          "text": [
            "elapsed time= 0.4346659183502197\n"
          ],
          "name": "stdout"
        }
      ]
    },
    {
      "cell_type": "markdown",
      "metadata": {
        "id": "h7c0aHudWE-s",
        "colab_type": "text"
      },
      "source": [
        "It can be observed that the exection time required for the computation by taking the variable in a tuple is less in comparison to taking them as a list. This is due to the immutability property of the tuple data type."
      ]
    },
    {
      "cell_type": "markdown",
      "metadata": {
        "id": "Vt4kCpwhW2il",
        "colab_type": "text"
      },
      "source": [
        "#Set\n",
        "Set are similar to list. The only difference is that it treates all the repeated elements in a list as a single element.\n",
        "\n",
        "From high school study, we know that, Sets do contain the number distint samples present in acollection."
      ]
    },
    {
      "cell_type": "code",
      "metadata": {
        "id": "WCGnoT1yV9Mz",
        "colab_type": "code",
        "outputId": "fa410d1a-07cc-432a-9b35-3a1af5cc9682",
        "colab": {
          "base_uri": "https://localhost:8080/",
          "height": 52
        }
      },
      "source": [
        "a=list(range(10))\n",
        "print('created list=',a)\n",
        "#lets append a number already present in the list.\n",
        "a.append(5)\n",
        "print('modified list=',a)"
      ],
      "execution_count": 0,
      "outputs": [
        {
          "output_type": "stream",
          "text": [
            "created list= [0, 1, 2, 3, 4, 5, 6, 7, 8, 9]\n",
            "modified list= [0, 1, 2, 3, 4, 5, 6, 7, 8, 9, 5]\n"
          ],
          "name": "stdout"
        }
      ]
    },
    {
      "cell_type": "markdown",
      "metadata": {
        "id": "z36R7HOpXfCk",
        "colab_type": "text"
      },
      "source": [
        "Now lets check the same in a set."
      ]
    },
    {
      "cell_type": "code",
      "metadata": {
        "id": "mgsFGZQYXjg4",
        "colab_type": "code",
        "outputId": "d17bf1f2-5f6f-4577-ae39-f8aae8b247a5",
        "colab": {
          "base_uri": "https://localhost:8080/",
          "height": 52
        }
      },
      "source": [
        "#lets create a set from this modified list. The diffrence can be noticed at the output.\n",
        "b=set(a)\n",
        "print(type(b))\n",
        "print('created set is=',b)"
      ],
      "execution_count": 0,
      "outputs": [
        {
          "output_type": "stream",
          "text": [
            "<class 'set'>\n",
            "created set is= {0, 1, 2, 3, 4, 5, 6, 7, 8, 9}\n"
          ],
          "name": "stdout"
        }
      ]
    },
    {
      "cell_type": "markdown",
      "metadata": {
        "id": "2OMlQdJufSaG",
        "colab_type": "text"
      },
      "source": [
        "Lets chack another difference between set and list. Let's repeat the same experiment."
      ]
    },
    {
      "cell_type": "code",
      "metadata": {
        "id": "aObwlTK6fPa_",
        "colab_type": "code",
        "outputId": "544fee65-c611-4dd5-ab07-8ef64b88d2c9",
        "colab": {
          "base_uri": "https://localhost:8080/",
          "height": 87
        }
      },
      "source": [
        "import time\n",
        "tic=time.time()\n",
        "test_list=list(range(1000000))\n",
        "print(23333 in test_list)\n",
        "print(100000 in test_list)\n",
        "print(9999999999 in test_list)\n",
        "toc=time.time()\n",
        "print('elapsed time=',toc-tic)"
      ],
      "execution_count": 0,
      "outputs": [
        {
          "output_type": "stream",
          "text": [
            "True\n",
            "True\n",
            "False\n",
            "elapsed time= 0.08337593078613281\n"
          ],
          "name": "stdout"
        }
      ]
    },
    {
      "cell_type": "markdown",
      "metadata": {
        "id": "4zhGreHof7nf",
        "colab_type": "text"
      },
      "source": [
        "Now let's repeat the same by using a set."
      ]
    },
    {
      "cell_type": "code",
      "metadata": {
        "id": "pq1rbIFVf_pf",
        "colab_type": "code",
        "outputId": "706f48f8-a173-4cb8-c2c3-731a3bab0e23",
        "colab": {
          "base_uri": "https://localhost:8080/",
          "height": 87
        }
      },
      "source": [
        "import time\n",
        "tic=time.time()\n",
        "test_set=set(range(1000000))\n",
        "print(23333 in test_set)\n",
        "print(100000 in test_set)\n",
        "print(9999999999 in test_set)\n",
        "toc=time.time()\n",
        "print('elapsed time=',toc-tic)"
      ],
      "execution_count": 0,
      "outputs": [
        {
          "output_type": "stream",
          "text": [
            "True\n",
            "True\n",
            "False\n",
            "elapsed time= 0.09675288200378418\n"
          ],
          "name": "stdout"
        }
      ]
    },
    {
      "cell_type": "markdown",
      "metadata": {
        "id": "r8c3cp8KYs78",
        "colab_type": "text"
      },
      "source": [
        "#Dictionary\n",
        "This data type conatins a header for every element present.\n",
        "Header are termed as \"key\".\n",
        "lements are termed as 'value'\n",
        "\n",
        "Lets explore."
      ]
    },
    {
      "cell_type": "code",
      "metadata": {
        "id": "SNesC06qYsT1",
        "colab_type": "code",
        "outputId": "89e3e515-3218-424e-a3b1-34c0eca0f6cd",
        "colab": {
          "base_uri": "https://localhost:8080/",
          "height": 34
        }
      },
      "source": [
        "test_dict={}\n",
        "type(test_dict)\n",
        "test_dict['purpose']='demonstartion'\n",
        "test_dict['element']=300\n",
        "test_dict['boolean element']= False\n",
        "print(test_dict)"
      ],
      "execution_count": 0,
      "outputs": [
        {
          "output_type": "stream",
          "text": [
            "{'purpose': 'demonstartion', 'element': 300, 'boolean element': False}\n"
          ],
          "name": "stdout"
        }
      ]
    },
    {
      "cell_type": "code",
      "metadata": {
        "id": "eAJ187u4c9sm",
        "colab_type": "code",
        "outputId": "be2847bb-3437-4885-d6cb-f8595921668e",
        "colab": {
          "base_uri": "https://localhost:8080/",
          "height": 34
        }
      },
      "source": [
        "test_dict['purpose']\n",
        "test_dict['boolean element']"
      ],
      "execution_count": 0,
      "outputs": [
        {
          "output_type": "execute_result",
          "data": {
            "text/plain": [
              "False"
            ]
          },
          "metadata": {
            "tags": []
          },
          "execution_count": 38
        }
      ]
    },
    {
      "cell_type": "code",
      "metadata": {
        "id": "0ZsJ2-9rdtYv",
        "colab_type": "code",
        "outputId": "5ba0839b-9cef-4844-ff73-500d6ca7fa0e",
        "colab": {
          "base_uri": "https://localhost:8080/",
          "height": 123
        }
      },
      "source": [
        "print(test_dict.keys())#syntax to print the keys\n",
        "print(test_dict.values())#syntax to print the values\n",
        "print(test_dict.items())#alternate way of representation\n",
        "#alternate way\n",
        "\n",
        "for key in test_dict.keys():\n",
        "  print(test_dict[key],'is the value stored in ',key)\n"
      ],
      "execution_count": 0,
      "outputs": [
        {
          "output_type": "stream",
          "text": [
            "dict_keys(['purpose', 'element', 'boolean element'])\n",
            "dict_values(['demonstartion', 300, False])\n",
            "dict_items([('purpose', 'demonstartion'), ('element', 300), ('boolean element', False)])\n",
            "demonstartion is the value stored in  purpose\n",
            "300 is the value stored in  element\n",
            "False is the value stored in  boolean element\n"
          ],
          "name": "stdout"
        }
      ]
    }
  ]
}