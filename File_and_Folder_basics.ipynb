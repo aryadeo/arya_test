{
  "nbformat": 4,
  "nbformat_minor": 0,
  "metadata": {
    "colab": {
      "name": "File_and_Folder_basics.ipynb",
      "provenance": [],
      "collapsed_sections": [
        "LVx78XStcnXr",
        "BLV8QCFcaxKW",
        "aha-v-nma7xB",
        "gMdhJU1pXmwd"
      ],
      "toc_visible": true,
      "include_colab_link": true
    },
    "kernelspec": {
      "name": "python3",
      "display_name": "Python 3"
    }
  },
  "cells": [
    {
      "cell_type": "markdown",
      "metadata": {
        "id": "view-in-github",
        "colab_type": "text"
      },
      "source": [
        "<a href=\"https://colab.research.google.com/github/aryadeo/python_basics/blob/master/File_and_Folder_basics.ipynb\" target=\"_parent\"><img src=\"https://colab.research.google.com/assets/colab-badge.svg\" alt=\"Open In Colab\"/></a>"
      ]
    },
    {
      "cell_type": "markdown",
      "metadata": {
        "id": "u0P933wVj4IY",
        "colab_type": "text"
      },
      "source": [
        "date: 16th Oct, 2019\n",
        "\n",
        "This notebook will demonstrate the  basics of file handling "
      ]
    },
    {
      "cell_type": "markdown",
      "metadata": {
        "id": "LVx78XStcnXr",
        "colab_type": "text"
      },
      "source": [
        "#Folder Setting"
      ]
    },
    {
      "cell_type": "code",
      "metadata": {
        "id": "9DEVCanMWjZp",
        "colab_type": "code",
        "outputId": "9129b4fe-20b0-48e7-80aa-e2806409c24f",
        "colab": {
          "base_uri": "https://localhost:8080/",
          "height": 34
        }
      },
      "source": [
        "!ls #shell command for showing the working location."
      ],
      "execution_count": 0,
      "outputs": [
        {
          "output_type": "stream",
          "text": [
            "drive  my_first_test_file.py  sample_data  test_folder\n"
          ],
          "name": "stdout"
        }
      ]
    },
    {
      "cell_type": "code",
      "metadata": {
        "id": "RW3bbD3kXlay",
        "colab_type": "code",
        "colab": {}
      },
      "source": [
        "!mkdir test_folder #create a directory"
      ],
      "execution_count": 0,
      "outputs": []
    },
    {
      "cell_type": "code",
      "metadata": {
        "id": "qx9OCmSqYQm7",
        "colab_type": "code",
        "colab": {}
      },
      "source": [
        "!echo \"file\" >test_folder/test_file.txt #write something to a file of desired format"
      ],
      "execution_count": 0,
      "outputs": []
    },
    {
      "cell_type": "code",
      "metadata": {
        "id": "-LsI88dSbUqD",
        "colab_type": "code",
        "colab": {}
      },
      "source": [
        "import os"
      ],
      "execution_count": 0,
      "outputs": []
    },
    {
      "cell_type": "code",
      "metadata": {
        "id": "-UGJqRsPZC3h",
        "colab_type": "code",
        "colab": {}
      },
      "source": [
        "os.chdir('test_folder') #change the working directory"
      ],
      "execution_count": 0,
      "outputs": []
    },
    {
      "cell_type": "code",
      "metadata": {
        "id": "0X9MBgrJZJjK",
        "colab_type": "code",
        "colab": {}
      },
      "source": [
        "os.chdir('sample_data') # changing the working direcctory"
      ],
      "execution_count": 0,
      "outputs": []
    },
    {
      "cell_type": "code",
      "metadata": {
        "id": "DGd5DjxgZsyy",
        "colab_type": "code",
        "outputId": "d12ecc9c-a7de-4a6b-e767-da3eca47852b",
        "colab": {
          "base_uri": "https://localhost:8080/",
          "height": 34
        }
      },
      "source": [
        "%cd ../ #go back to the previous directory."
      ],
      "execution_count": 0,
      "outputs": [
        {
          "output_type": "stream",
          "text": [
            "/content\n"
          ],
          "name": "stdout"
        }
      ]
    },
    {
      "cell_type": "markdown",
      "metadata": {
        "id": "BLV8QCFcaxKW",
        "colab_type": "text"
      },
      "source": [
        "#Creating a File"
      ]
    },
    {
      "cell_type": "code",
      "metadata": {
        "id": "EPkePNtTjvbP",
        "colab_type": "code",
        "colab": {}
      },
      "source": [
        "#lets create a file of our own.\n",
        "!echo 'def hello():'  > my_first_test_file.py\n",
        "!echo '   print('\"new file created\"')'  >>my_first_test_file.py\n",
        "!echo '   for i in range(5):' >>my_first_test_file.py \n",
        "!echo '       print('the values are',i)'  >>my_first_test_file.py "
      ],
      "execution_count": 0,
      "outputs": []
    },
    {
      "cell_type": "code",
      "metadata": {
        "id": "Abg4ce2ykdDM",
        "colab_type": "code",
        "colab": {}
      },
      "source": [
        "!cat my_first_test_file.py\n",
        "# !cat is a shell command to see what is there inside the file."
      ],
      "execution_count": 0,
      "outputs": []
    },
    {
      "cell_type": "markdown",
      "metadata": {
        "id": "LQqLaDXjbcrC",
        "colab_type": "text"
      },
      "source": [
        "Th next code shouls work. But showing an error. Please try to rectify it."
      ]
    },
    {
      "cell_type": "code",
      "metadata": {
        "id": "farRrb8XmQYp",
        "colab_type": "code",
        "colab": {}
      },
      "source": [
        "import my_first_test_file\n",
        "#its showing an error. try to rectify it."
      ],
      "execution_count": 0,
      "outputs": []
    },
    {
      "cell_type": "markdown",
      "metadata": {
        "id": "aha-v-nma7xB",
        "colab_type": "text"
      },
      "source": [
        "#Code for linking to the google drive\n",
        "\n",
        "\n",
        "\n"
      ]
    },
    {
      "cell_type": "code",
      "metadata": {
        "id": "QiPHgDGEW2zR",
        "colab_type": "code",
        "colab": {}
      },
      "source": [
        "from google.colab import drive\n",
        "drive.mount('/content/drive')"
      ],
      "execution_count": 0,
      "outputs": []
    },
    {
      "cell_type": "markdown",
      "metadata": {
        "id": "gMdhJU1pXmwd",
        "colab_type": "text"
      },
      "source": [
        "#File I/O operation\n",
        "Lets see how to upload a file from local system and from a cloud."
      ]
    },
    {
      "cell_type": "markdown",
      "metadata": {
        "id": "wK0tEgGrQJ-L",
        "colab_type": "text"
      },
      "source": [
        "After getting connected to google drive, We have a file uploaded in drive and we are making it read."
      ]
    },
    {
      "cell_type": "code",
      "metadata": {
        "id": "IUjIP3BJHlsQ",
        "colab_type": "code",
        "colab": {}
      },
      "source": [
        "my_file=open('drive/My Drive/EOP_DATA_DISC_1_03-10-2019_1743.csv','r')\n",
        "print(my_file.read())"
      ],
      "execution_count": 0,
      "outputs": []
    },
    {
      "cell_type": "code",
      "metadata": {
        "id": "SLP-uUBfQvQg",
        "colab_type": "code",
        "colab": {}
      },
      "source": [
        "#command for reading the first line of a file.\n",
        "print(my_file.readline())"
      ],
      "execution_count": 0,
      "outputs": []
    },
    {
      "cell_type": "code",
      "metadata": {
        "id": "BMkpbrgBTQsD",
        "colab_type": "code",
        "colab": {}
      },
      "source": [
        "#command to close the file\n",
        "my_file.close()"
      ],
      "execution_count": 0,
      "outputs": []
    },
    {
      "cell_type": "code",
      "metadata": {
        "id": "vzEWyaO8TkZb",
        "colab_type": "code",
        "colab": {}
      },
      "source": [
        "my_file.read() #after closing the file, it can not be read. To read the file, again you have to make it open and proceed."
      ],
      "execution_count": 0,
      "outputs": []
    },
    {
      "cell_type": "code",
      "metadata": {
        "id": "8Fp92YKaQ2K6",
        "colab_type": "code",
        "colab": {}
      },
      "source": [
        "#alternate way of opening and reading a file\n",
        "\n",
        "with open('drive/My Drive/EOP_DATA_DISC_1_03-10-2019_1743.csv','r') as my_file: #in this way my_file is treated as open. and as we are going out of the indentation, it will close the file.\n",
        "  for line in my_file: #\"line\" means every row in file #in built command in python.\n",
        "    print(line)\n",
        "    print(line.split(',')) #here we are splitting the string with every ',' appeared in between.\n",
        "    for i in range(len(line.split(','))):\n",
        "      print(line.split(',')[i])\n",
        "    print('----')"
      ],
      "execution_count": 0,
      "outputs": []
    },
    {
      "cell_type": "code",
      "metadata": {
        "id": "Bak0Om1Zfz9j",
        "colab_type": "code",
        "colab": {}
      },
      "source": [
        "with open('drive/My Drive/EOP_DATA_DISC_1_03-10-2019_1743.csv','r') as my_file:\n",
        "  print(my_file.read())"
      ],
      "execution_count": 0,
      "outputs": []
    },
    {
      "cell_type": "code",
      "metadata": {
        "id": "-BtFtjT1UoGZ",
        "colab_type": "code",
        "colab": {}
      },
      "source": [
        "#now lets write ssomething in a file\n",
        "\n",
        "with open('test_folder/test_file_2.txt','w') as file_2:\n",
        "  file_2.write('hello arya')"
      ],
      "execution_count": 0,
      "outputs": []
    },
    {
      "cell_type": "code",
      "metadata": {
        "id": "iDGj5BwyiiQq",
        "colab_type": "code",
        "colab": {}
      },
      "source": [
        "import os\n",
        "os.chdir('test_folder') #change the working directory."
      ],
      "execution_count": 0,
      "outputs": []
    },
    {
      "cell_type": "code",
      "metadata": {
        "id": "EzBaMbhYivwb",
        "colab_type": "code",
        "colab": {}
      },
      "source": [
        "!ls #cross check the location."
      ],
      "execution_count": 0,
      "outputs": []
    },
    {
      "cell_type": "code",
      "metadata": {
        "id": "1eydesHogeXL",
        "colab_type": "code",
        "colab": {}
      },
      "source": [
        "#now lets see what is written.\n",
        "!cat test_file_2.txt"
      ],
      "execution_count": 0,
      "outputs": []
    }
  ]
}